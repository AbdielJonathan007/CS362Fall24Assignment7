{
  "cells": [
    {
      "cell_type": "markdown",
      "metadata": {
        "id": "view-in-github",
        "colab_type": "text"
      },
      "source": [
        "<a href=\"https://colab.research.google.com/github/AbdielJonathan007/CS362Fall24Assignment7/blob/main/CarRacing.ipynb\" target=\"_parent\"><img src=\"https://colab.research.google.com/assets/colab-badge.svg\" alt=\"Open In Colab\"/></a>"
      ]
    },
    {
      "cell_type": "markdown",
      "metadata": {
        "id": "sXZ5BlLEG1dQ"
      },
      "source": []
    },
    {
      "cell_type": "markdown",
      "metadata": {
        "id": "UZC8UUYmhuDV"
      },
      "source": [
        "# Google colab code done by Abdiel"
      ]
    },
    {
      "cell_type": "code",
      "execution_count": 2,
      "metadata": {
        "collapsed": true,
        "id": "a6AYsOQniWXP",
        "colab": {
          "base_uri": "https://localhost:8080/"
        },
        "outputId": "2789edbc-7eee-473b-d3d3-cd494f4ae454"
      },
      "outputs": [
        {
          "output_type": "stream",
          "name": "stdout",
          "text": [
            "Collecting git+https://github.com/DLR-RM/rl-baselines3-zoo\n",
            "  Cloning https://github.com/DLR-RM/rl-baselines3-zoo to /tmp/pip-req-build-0dzywmm1\n",
            "  Running command git clone --filter=blob:none --quiet https://github.com/DLR-RM/rl-baselines3-zoo /tmp/pip-req-build-0dzywmm1\n",
            "  Resolved https://github.com/DLR-RM/rl-baselines3-zoo to commit 506bb7aa40e9d90e997580a369f2e9bf64abe594\n",
            "  Running command git submodule update --init --recursive -q\n",
            "  Installing build dependencies ... \u001b[?25l\u001b[?25hdone\n",
            "  Getting requirements to build wheel ... \u001b[?25l\u001b[?25hdone\n",
            "  Preparing metadata (pyproject.toml) ... \u001b[?25l\u001b[?25hdone\n",
            "Collecting sb3_contrib<3.0,>=2.5.0a0 (from rl_zoo3==2.5.0a1)\n",
            "  Downloading sb3_contrib-2.5.0a0-py3-none-any.whl.metadata (3.8 kB)\n",
            "Collecting gymnasium<1.1.0,>=0.29.1 (from rl_zoo3==2.5.0a1)\n",
            "  Downloading gymnasium-1.0.0-py3-none-any.whl.metadata (9.5 kB)\n",
            "Collecting huggingface_sb3<4.0,>=3.0 (from rl_zoo3==2.5.0a1)\n",
            "  Downloading huggingface_sb3-3.0-py3-none-any.whl.metadata (6.3 kB)\n",
            "Requirement already satisfied: tqdm in /usr/local/lib/python3.10/dist-packages (from rl_zoo3==2.5.0a1) (4.67.1)\n",
            "Requirement already satisfied: rich in /usr/local/lib/python3.10/dist-packages (from rl_zoo3==2.5.0a1) (13.9.4)\n",
            "Collecting optuna>=3.0 (from rl_zoo3==2.5.0a1)\n",
            "  Downloading optuna-4.1.0-py3-none-any.whl.metadata (16 kB)\n",
            "Requirement already satisfied: pyyaml>=5.1 in /usr/local/lib/python3.10/dist-packages (from rl_zoo3==2.5.0a1) (6.0.2)\n",
            "Collecting pytablewriter~=1.2 (from rl_zoo3==2.5.0a1)\n",
            "  Downloading pytablewriter-1.2.0-py3-none-any.whl.metadata (37 kB)\n",
            "Collecting shimmy~=2.0 (from rl_zoo3==2.5.0a1)\n",
            "  Downloading Shimmy-2.0.0-py3-none-any.whl.metadata (3.5 kB)\n",
            "Requirement already satisfied: numpy>=1.21.0 in /usr/local/lib/python3.10/dist-packages (from gymnasium<1.1.0,>=0.29.1->rl_zoo3==2.5.0a1) (1.26.4)\n",
            "Requirement already satisfied: cloudpickle>=1.2.0 in /usr/local/lib/python3.10/dist-packages (from gymnasium<1.1.0,>=0.29.1->rl_zoo3==2.5.0a1) (3.1.0)\n",
            "Requirement already satisfied: typing-extensions>=4.3.0 in /usr/local/lib/python3.10/dist-packages (from gymnasium<1.1.0,>=0.29.1->rl_zoo3==2.5.0a1) (4.12.2)\n",
            "Collecting farama-notifications>=0.0.1 (from gymnasium<1.1.0,>=0.29.1->rl_zoo3==2.5.0a1)\n",
            "  Downloading Farama_Notifications-0.0.4-py3-none-any.whl.metadata (558 bytes)\n",
            "Requirement already satisfied: huggingface-hub~=0.8 in /usr/local/lib/python3.10/dist-packages (from huggingface_sb3<4.0,>=3.0->rl_zoo3==2.5.0a1) (0.27.0)\n",
            "Requirement already satisfied: wasabi in /usr/local/lib/python3.10/dist-packages (from huggingface_sb3<4.0,>=3.0->rl_zoo3==2.5.0a1) (1.1.3)\n",
            "Collecting alembic>=1.5.0 (from optuna>=3.0->rl_zoo3==2.5.0a1)\n",
            "  Downloading alembic-1.14.0-py3-none-any.whl.metadata (7.4 kB)\n",
            "Collecting colorlog (from optuna>=3.0->rl_zoo3==2.5.0a1)\n",
            "  Downloading colorlog-6.9.0-py3-none-any.whl.metadata (10 kB)\n",
            "Requirement already satisfied: packaging>=20.0 in /usr/local/lib/python3.10/dist-packages (from optuna>=3.0->rl_zoo3==2.5.0a1) (24.2)\n",
            "Requirement already satisfied: sqlalchemy>=1.4.2 in /usr/local/lib/python3.10/dist-packages (from optuna>=3.0->rl_zoo3==2.5.0a1) (2.0.36)\n",
            "Requirement already satisfied: setuptools>=38.3.0 in /usr/local/lib/python3.10/dist-packages (from pytablewriter~=1.2->rl_zoo3==2.5.0a1) (75.1.0)\n",
            "Collecting DataProperty<2,>=1.0.1 (from pytablewriter~=1.2->rl_zoo3==2.5.0a1)\n",
            "  Downloading DataProperty-1.0.1-py3-none-any.whl.metadata (11 kB)\n",
            "Collecting mbstrdecoder<2,>=1.0.0 (from pytablewriter~=1.2->rl_zoo3==2.5.0a1)\n",
            "  Downloading mbstrdecoder-1.1.3-py3-none-any.whl.metadata (4.0 kB)\n",
            "Collecting pathvalidate<4,>=2.3.0 (from pytablewriter~=1.2->rl_zoo3==2.5.0a1)\n",
            "  Downloading pathvalidate-3.2.1-py3-none-any.whl.metadata (12 kB)\n",
            "Collecting tabledata<2,>=1.3.1 (from pytablewriter~=1.2->rl_zoo3==2.5.0a1)\n",
            "  Downloading tabledata-1.3.3-py3-none-any.whl.metadata (3.7 kB)\n",
            "Collecting tcolorpy<1,>=0.0.5 (from pytablewriter~=1.2->rl_zoo3==2.5.0a1)\n",
            "  Downloading tcolorpy-0.1.6-py3-none-any.whl.metadata (6.4 kB)\n",
            "Collecting typepy<2,>=1.3.2 (from typepy[datetime]<2,>=1.3.2->pytablewriter~=1.2->rl_zoo3==2.5.0a1)\n",
            "  Downloading typepy-1.3.2-py3-none-any.whl.metadata (9.3 kB)\n",
            "Collecting stable-baselines3<3.0,>=2.4.0 (from sb3_contrib<3.0,>=2.5.0a0->rl_zoo3==2.5.0a1)\n",
            "  Downloading stable_baselines3-2.4.0-py3-none-any.whl.metadata (4.5 kB)\n",
            "Requirement already satisfied: markdown-it-py>=2.2.0 in /usr/local/lib/python3.10/dist-packages (from rich->rl_zoo3==2.5.0a1) (3.0.0)\n",
            "Requirement already satisfied: pygments<3.0.0,>=2.13.0 in /usr/local/lib/python3.10/dist-packages (from rich->rl_zoo3==2.5.0a1) (2.18.0)\n",
            "Collecting Mako (from alembic>=1.5.0->optuna>=3.0->rl_zoo3==2.5.0a1)\n",
            "  Downloading Mako-1.3.8-py3-none-any.whl.metadata (2.9 kB)\n",
            "Requirement already satisfied: filelock in /usr/local/lib/python3.10/dist-packages (from huggingface-hub~=0.8->huggingface_sb3<4.0,>=3.0->rl_zoo3==2.5.0a1) (3.16.1)\n",
            "Requirement already satisfied: fsspec>=2023.5.0 in /usr/local/lib/python3.10/dist-packages (from huggingface-hub~=0.8->huggingface_sb3<4.0,>=3.0->rl_zoo3==2.5.0a1) (2024.10.0)\n",
            "Requirement already satisfied: requests in /usr/local/lib/python3.10/dist-packages (from huggingface-hub~=0.8->huggingface_sb3<4.0,>=3.0->rl_zoo3==2.5.0a1) (2.32.3)\n",
            "Requirement already satisfied: mdurl~=0.1 in /usr/local/lib/python3.10/dist-packages (from markdown-it-py>=2.2.0->rich->rl_zoo3==2.5.0a1) (0.1.2)\n",
            "Requirement already satisfied: chardet<6,>=3.0.4 in /usr/local/lib/python3.10/dist-packages (from mbstrdecoder<2,>=1.0.0->pytablewriter~=1.2->rl_zoo3==2.5.0a1) (5.2.0)\n",
            "Requirement already satisfied: greenlet!=0.4.17 in /usr/local/lib/python3.10/dist-packages (from sqlalchemy>=1.4.2->optuna>=3.0->rl_zoo3==2.5.0a1) (3.1.1)\n",
            "Requirement already satisfied: torch>=1.13 in /usr/local/lib/python3.10/dist-packages (from stable-baselines3<3.0,>=2.4.0->sb3_contrib<3.0,>=2.5.0a0->rl_zoo3==2.5.0a1) (2.5.1+cu121)\n",
            "Requirement already satisfied: pandas in /usr/local/lib/python3.10/dist-packages (from stable-baselines3<3.0,>=2.4.0->sb3_contrib<3.0,>=2.5.0a0->rl_zoo3==2.5.0a1) (2.2.2)\n",
            "Requirement already satisfied: matplotlib in /usr/local/lib/python3.10/dist-packages (from stable-baselines3<3.0,>=2.4.0->sb3_contrib<3.0,>=2.5.0a0->rl_zoo3==2.5.0a1) (3.8.0)\n",
            "Requirement already satisfied: python-dateutil<3.0.0,>=2.8.0 in /usr/local/lib/python3.10/dist-packages (from typepy[datetime]<2,>=1.3.2->pytablewriter~=1.2->rl_zoo3==2.5.0a1) (2.8.2)\n",
            "Requirement already satisfied: pytz>=2018.9 in /usr/local/lib/python3.10/dist-packages (from typepy[datetime]<2,>=1.3.2->pytablewriter~=1.2->rl_zoo3==2.5.0a1) (2024.2)\n",
            "Requirement already satisfied: six>=1.5 in /usr/local/lib/python3.10/dist-packages (from python-dateutil<3.0.0,>=2.8.0->typepy[datetime]<2,>=1.3.2->pytablewriter~=1.2->rl_zoo3==2.5.0a1) (1.17.0)\n",
            "Requirement already satisfied: networkx in /usr/local/lib/python3.10/dist-packages (from torch>=1.13->stable-baselines3<3.0,>=2.4.0->sb3_contrib<3.0,>=2.5.0a0->rl_zoo3==2.5.0a1) (3.4.2)\n",
            "Requirement already satisfied: jinja2 in /usr/local/lib/python3.10/dist-packages (from torch>=1.13->stable-baselines3<3.0,>=2.4.0->sb3_contrib<3.0,>=2.5.0a0->rl_zoo3==2.5.0a1) (3.1.4)\n",
            "Requirement already satisfied: sympy==1.13.1 in /usr/local/lib/python3.10/dist-packages (from torch>=1.13->stable-baselines3<3.0,>=2.4.0->sb3_contrib<3.0,>=2.5.0a0->rl_zoo3==2.5.0a1) (1.13.1)\n",
            "Requirement already satisfied: mpmath<1.4,>=1.1.0 in /usr/local/lib/python3.10/dist-packages (from sympy==1.13.1->torch>=1.13->stable-baselines3<3.0,>=2.4.0->sb3_contrib<3.0,>=2.5.0a0->rl_zoo3==2.5.0a1) (1.3.0)\n",
            "Requirement already satisfied: MarkupSafe>=0.9.2 in /usr/local/lib/python3.10/dist-packages (from Mako->alembic>=1.5.0->optuna>=3.0->rl_zoo3==2.5.0a1) (3.0.2)\n",
            "Requirement already satisfied: contourpy>=1.0.1 in /usr/local/lib/python3.10/dist-packages (from matplotlib->stable-baselines3<3.0,>=2.4.0->sb3_contrib<3.0,>=2.5.0a0->rl_zoo3==2.5.0a1) (1.3.1)\n",
            "Requirement already satisfied: cycler>=0.10 in /usr/local/lib/python3.10/dist-packages (from matplotlib->stable-baselines3<3.0,>=2.4.0->sb3_contrib<3.0,>=2.5.0a0->rl_zoo3==2.5.0a1) (0.12.1)\n",
            "Requirement already satisfied: fonttools>=4.22.0 in /usr/local/lib/python3.10/dist-packages (from matplotlib->stable-baselines3<3.0,>=2.4.0->sb3_contrib<3.0,>=2.5.0a0->rl_zoo3==2.5.0a1) (4.55.3)\n",
            "Requirement already satisfied: kiwisolver>=1.0.1 in /usr/local/lib/python3.10/dist-packages (from matplotlib->stable-baselines3<3.0,>=2.4.0->sb3_contrib<3.0,>=2.5.0a0->rl_zoo3==2.5.0a1) (1.4.7)\n",
            "Requirement already satisfied: pillow>=6.2.0 in /usr/local/lib/python3.10/dist-packages (from matplotlib->stable-baselines3<3.0,>=2.4.0->sb3_contrib<3.0,>=2.5.0a0->rl_zoo3==2.5.0a1) (11.0.0)\n",
            "Requirement already satisfied: pyparsing>=2.3.1 in /usr/local/lib/python3.10/dist-packages (from matplotlib->stable-baselines3<3.0,>=2.4.0->sb3_contrib<3.0,>=2.5.0a0->rl_zoo3==2.5.0a1) (3.2.0)\n",
            "Requirement already satisfied: tzdata>=2022.7 in /usr/local/lib/python3.10/dist-packages (from pandas->stable-baselines3<3.0,>=2.4.0->sb3_contrib<3.0,>=2.5.0a0->rl_zoo3==2.5.0a1) (2024.2)\n",
            "Requirement already satisfied: charset-normalizer<4,>=2 in /usr/local/lib/python3.10/dist-packages (from requests->huggingface-hub~=0.8->huggingface_sb3<4.0,>=3.0->rl_zoo3==2.5.0a1) (3.4.0)\n",
            "Requirement already satisfied: idna<4,>=2.5 in /usr/local/lib/python3.10/dist-packages (from requests->huggingface-hub~=0.8->huggingface_sb3<4.0,>=3.0->rl_zoo3==2.5.0a1) (3.10)\n",
            "Requirement already satisfied: urllib3<3,>=1.21.1 in /usr/local/lib/python3.10/dist-packages (from requests->huggingface-hub~=0.8->huggingface_sb3<4.0,>=3.0->rl_zoo3==2.5.0a1) (2.2.3)\n",
            "Requirement already satisfied: certifi>=2017.4.17 in /usr/local/lib/python3.10/dist-packages (from requests->huggingface-hub~=0.8->huggingface_sb3<4.0,>=3.0->rl_zoo3==2.5.0a1) (2024.12.14)\n",
            "Downloading gymnasium-1.0.0-py3-none-any.whl (958 kB)\n",
            "\u001b[2K   \u001b[90m━━━━━━━━━━━━━━━━━━━━━━━━━━━━━━━━━━━━━━━━\u001b[0m \u001b[32m958.1/958.1 kB\u001b[0m \u001b[31m21.7 MB/s\u001b[0m eta \u001b[36m0:00:00\u001b[0m\n",
            "\u001b[?25hDownloading huggingface_sb3-3.0-py3-none-any.whl (9.7 kB)\n",
            "Downloading optuna-4.1.0-py3-none-any.whl (364 kB)\n",
            "\u001b[2K   \u001b[90m━━━━━━━━━━━━━━━━━━━━━━━━━━━━━━━━━━━━━━━━\u001b[0m \u001b[32m364.4/364.4 kB\u001b[0m \u001b[31m28.8 MB/s\u001b[0m eta \u001b[36m0:00:00\u001b[0m\n",
            "\u001b[?25hDownloading pytablewriter-1.2.0-py3-none-any.whl (111 kB)\n",
            "\u001b[2K   \u001b[90m━━━━━━━━━━━━━━━━━━━━━━━━━━━━━━━━━━━━━━━━\u001b[0m \u001b[32m111.1/111.1 kB\u001b[0m \u001b[31m10.6 MB/s\u001b[0m eta \u001b[36m0:00:00\u001b[0m\n",
            "\u001b[?25hDownloading sb3_contrib-2.5.0a0-py3-none-any.whl (92 kB)\n",
            "\u001b[2K   \u001b[90m━━━━━━━━━━━━━━━━━━━━━━━━━━━━━━━━━━━━━━━━\u001b[0m \u001b[32m92.6/92.6 kB\u001b[0m \u001b[31m8.9 MB/s\u001b[0m eta \u001b[36m0:00:00\u001b[0m\n",
            "\u001b[?25hDownloading Shimmy-2.0.0-py3-none-any.whl (30 kB)\n",
            "Downloading alembic-1.14.0-py3-none-any.whl (233 kB)\n",
            "\u001b[2K   \u001b[90m━━━━━━━━━━━━━━━━━━━━━━━━━━━━━━━━━━━━━━━━\u001b[0m \u001b[32m233.5/233.5 kB\u001b[0m \u001b[31m20.0 MB/s\u001b[0m eta \u001b[36m0:00:00\u001b[0m\n",
            "\u001b[?25hDownloading DataProperty-1.0.1-py3-none-any.whl (27 kB)\n",
            "Downloading Farama_Notifications-0.0.4-py3-none-any.whl (2.5 kB)\n",
            "Downloading mbstrdecoder-1.1.3-py3-none-any.whl (7.8 kB)\n",
            "Downloading pathvalidate-3.2.1-py3-none-any.whl (23 kB)\n",
            "Downloading stable_baselines3-2.4.0-py3-none-any.whl (183 kB)\n",
            "\u001b[2K   \u001b[90m━━━━━━━━━━━━━━━━━━━━━━━━━━━━━━━━━━━━━━━━\u001b[0m \u001b[32m183.9/183.9 kB\u001b[0m \u001b[31m16.3 MB/s\u001b[0m eta \u001b[36m0:00:00\u001b[0m\n",
            "\u001b[?25hDownloading tabledata-1.3.3-py3-none-any.whl (11 kB)\n",
            "Downloading tcolorpy-0.1.6-py3-none-any.whl (8.1 kB)\n",
            "Downloading typepy-1.3.2-py3-none-any.whl (31 kB)\n",
            "Downloading colorlog-6.9.0-py3-none-any.whl (11 kB)\n",
            "Downloading Mako-1.3.8-py3-none-any.whl (78 kB)\n",
            "\u001b[2K   \u001b[90m━━━━━━━━━━━━━━━━━━━━━━━━━━━━━━━━━━━━━━━━\u001b[0m \u001b[32m78.6/78.6 kB\u001b[0m \u001b[31m7.8 MB/s\u001b[0m eta \u001b[36m0:00:00\u001b[0m\n",
            "\u001b[?25hBuilding wheels for collected packages: rl_zoo3\n",
            "  Building wheel for rl_zoo3 (pyproject.toml) ... \u001b[?25l\u001b[?25hdone\n",
            "  Created wheel for rl_zoo3: filename=rl_zoo3-2.5.0a1-py3-none-any.whl size=77265 sha256=7fe66be6aa216638a9c578fd47f6b6fd03ef52b1b7399228f96d6525660552f4\n",
            "  Stored in directory: /tmp/pip-ephem-wheel-cache-hxwj2hgh/wheels/5f/9b/c0/8af7ab740f894e9d66c7707eb4aa58087c9a71dd262e7e6174\n",
            "Successfully built rl_zoo3\n",
            "Installing collected packages: farama-notifications, tcolorpy, pathvalidate, mbstrdecoder, Mako, gymnasium, colorlog, typepy, shimmy, alembic, stable-baselines3, optuna, huggingface_sb3, sb3_contrib, DataProperty, tabledata, pytablewriter, rl_zoo3\n",
            "Successfully installed DataProperty-1.0.1 Mako-1.3.8 alembic-1.14.0 colorlog-6.9.0 farama-notifications-0.0.4 gymnasium-1.0.0 huggingface_sb3-3.0 mbstrdecoder-1.1.3 optuna-4.1.0 pathvalidate-3.2.1 pytablewriter-1.2.0 rl_zoo3-2.5.0a1 sb3_contrib-2.5.0a0 shimmy-2.0.0 stable-baselines3-2.4.0 tabledata-1.3.3 tcolorpy-0.1.6 typepy-1.3.2\n"
          ]
        }
      ],
      "source": [
        "# Installing RL-Baselines3 Zoo\n",
        "!pip3 install git+https://github.com/DLR-RM/rl-baselines3-zoo\n"
      ]
    },
    {
      "cell_type": "code",
      "execution_count": 3,
      "metadata": {
        "collapsed": true,
        "id": "CNWuL2uah-cU",
        "colab": {
          "base_uri": "https://localhost:8080/"
        },
        "outputId": "f42fb32c-927c-461c-c839-1e4f71fdaf10"
      },
      "outputs": [
        {
          "output_type": "stream",
          "name": "stdout",
          "text": [
            "Reading package lists... Done\n",
            "Building dependency tree... Done\n",
            "Reading state information... Done\n",
            "cmake is already the newest version (3.22.1-1ubuntu1.22.04.2).\n",
            "ffmpeg is already the newest version (7:4.4.2-0ubuntu0.22.04.1).\n",
            "The following additional packages will be installed:\n",
            "  swig4.0\n",
            "Suggested packages:\n",
            "  swig-doc swig-examples swig4.0-examples swig4.0-doc\n",
            "The following NEW packages will be installed:\n",
            "  swig swig4.0\n",
            "0 upgraded, 2 newly installed, 0 to remove and 49 not upgraded.\n",
            "Need to get 1,116 kB of archives.\n",
            "After this operation, 5,542 kB of additional disk space will be used.\n",
            "Get:1 http://archive.ubuntu.com/ubuntu jammy/universe amd64 swig4.0 amd64 4.0.2-1ubuntu1 [1,110 kB]\n",
            "Get:2 http://archive.ubuntu.com/ubuntu jammy/universe amd64 swig all 4.0.2-1ubuntu1 [5,632 B]\n",
            "Fetched 1,116 kB in 1s (1,236 kB/s)\n",
            "Selecting previously unselected package swig4.0.\n",
            "(Reading database ... 123635 files and directories currently installed.)\n",
            "Preparing to unpack .../swig4.0_4.0.2-1ubuntu1_amd64.deb ...\n",
            "Unpacking swig4.0 (4.0.2-1ubuntu1) ...\n",
            "Selecting previously unselected package swig.\n",
            "Preparing to unpack .../swig_4.0.2-1ubuntu1_all.deb ...\n",
            "Unpacking swig (4.0.2-1ubuntu1) ...\n",
            "Setting up swig4.0 (4.0.2-1ubuntu1) ...\n",
            "Setting up swig (4.0.2-1ubuntu1) ...\n",
            "Processing triggers for man-db (2.10.2-1) ...\n"
          ]
        }
      ],
      "source": [
        "!apt-get install swig cmake ffmpeg\n"
      ]
    },
    {
      "cell_type": "markdown",
      "metadata": {
        "id": "a1dqt08GmnDd"
      },
      "source": [
        "Install atari package"
      ]
    },
    {
      "cell_type": "code",
      "execution_count": 4,
      "metadata": {
        "collapsed": true,
        "id": "QcYgzF3RmvHU",
        "colab": {
          "base_uri": "https://localhost:8080/"
        },
        "outputId": "80eb60af-27f9-4b5c-a666-e8c6edc50b52"
      },
      "outputs": [
        {
          "output_type": "stream",
          "name": "stdout",
          "text": [
            "Requirement already satisfied: gymnasium[atari] in /usr/local/lib/python3.10/dist-packages (1.0.0)\n",
            "Requirement already satisfied: numpy>=1.21.0 in /usr/local/lib/python3.10/dist-packages (from gymnasium[atari]) (1.26.4)\n",
            "Requirement already satisfied: cloudpickle>=1.2.0 in /usr/local/lib/python3.10/dist-packages (from gymnasium[atari]) (3.1.0)\n",
            "Requirement already satisfied: typing-extensions>=4.3.0 in /usr/local/lib/python3.10/dist-packages (from gymnasium[atari]) (4.12.2)\n",
            "Requirement already satisfied: farama-notifications>=0.0.1 in /usr/local/lib/python3.10/dist-packages (from gymnasium[atari]) (0.0.4)\n",
            "Collecting ale-py>=0.9 (from gymnasium[atari])\n",
            "  Downloading ale_py-0.10.1-cp310-cp310-manylinux_2_17_x86_64.manylinux2014_x86_64.whl.metadata (7.6 kB)\n",
            "Downloading ale_py-0.10.1-cp310-cp310-manylinux_2_17_x86_64.manylinux2014_x86_64.whl (2.1 MB)\n",
            "\u001b[2K   \u001b[90m━━━━━━━━━━━━━━━━━━━━━━━━━━━━━━━━━━━━━━━━\u001b[0m \u001b[32m2.1/2.1 MB\u001b[0m \u001b[31m15.4 MB/s\u001b[0m eta \u001b[36m0:00:00\u001b[0m\n",
            "\u001b[?25hInstalling collected packages: ale-py\n",
            "Successfully installed ale-py-0.10.1\n",
            "Requirement already satisfied: gymnasium[accept-rom-license] in /usr/local/lib/python3.10/dist-packages (1.0.0)\n",
            "\u001b[33mWARNING: gymnasium 1.0.0 does not provide the extra 'accept-rom-license'\u001b[0m\u001b[33m\n",
            "\u001b[0mRequirement already satisfied: numpy>=1.21.0 in /usr/local/lib/python3.10/dist-packages (from gymnasium[accept-rom-license]) (1.26.4)\n",
            "Requirement already satisfied: cloudpickle>=1.2.0 in /usr/local/lib/python3.10/dist-packages (from gymnasium[accept-rom-license]) (3.1.0)\n",
            "Requirement already satisfied: typing-extensions>=4.3.0 in /usr/local/lib/python3.10/dist-packages (from gymnasium[accept-rom-license]) (4.12.2)\n",
            "Requirement already satisfied: farama-notifications>=0.0.1 in /usr/local/lib/python3.10/dist-packages (from gymnasium[accept-rom-license]) (0.0.4)\n"
          ]
        }
      ],
      "source": [
        "!pip install gymnasium[atari]\n",
        "!pip install gymnasium[accept-rom-license]"
      ]
    },
    {
      "cell_type": "code",
      "execution_count": 5,
      "metadata": {
        "colab": {
          "base_uri": "https://localhost:8080/"
        },
        "collapsed": true,
        "id": "-nVkSXt2naS0",
        "outputId": "3172181f-547c-48a4-878b-0e2c4d667760"
      },
      "outputs": [
        {
          "output_type": "stream",
          "name": "stdout",
          "text": [
            "Reading package lists... Done\n",
            "Building dependency tree... Done\n",
            "Reading state information... Done\n",
            "The following additional packages will be installed:\n",
            "  freeglut3 libglu1-mesa\n",
            "Suggested packages:\n",
            "  libgle3 python3-numpy\n",
            "The following NEW packages will be installed:\n",
            "  freeglut3 libglu1-mesa python3-opengl\n",
            "0 upgraded, 3 newly installed, 0 to remove and 49 not upgraded.\n",
            "Need to get 824 kB of archives.\n",
            "After this operation, 8,092 kB of additional disk space will be used.\n",
            "Get:1 http://archive.ubuntu.com/ubuntu jammy/universe amd64 freeglut3 amd64 2.8.1-6 [74.0 kB]\n",
            "Get:2 http://archive.ubuntu.com/ubuntu jammy/main amd64 libglu1-mesa amd64 9.0.2-1 [145 kB]\n",
            "Get:3 http://archive.ubuntu.com/ubuntu jammy/universe amd64 python3-opengl all 3.1.5+dfsg-1 [605 kB]\n",
            "Fetched 824 kB in 1s (582 kB/s)\n",
            "Selecting previously unselected package freeglut3:amd64.\n",
            "(Reading database ... 124388 files and directories currently installed.)\n",
            "Preparing to unpack .../freeglut3_2.8.1-6_amd64.deb ...\n",
            "Unpacking freeglut3:amd64 (2.8.1-6) ...\n",
            "Selecting previously unselected package libglu1-mesa:amd64.\n",
            "Preparing to unpack .../libglu1-mesa_9.0.2-1_amd64.deb ...\n",
            "Unpacking libglu1-mesa:amd64 (9.0.2-1) ...\n",
            "Selecting previously unselected package python3-opengl.\n",
            "Preparing to unpack .../python3-opengl_3.1.5+dfsg-1_all.deb ...\n",
            "Unpacking python3-opengl (3.1.5+dfsg-1) ...\n",
            "Setting up freeglut3:amd64 (2.8.1-6) ...\n",
            "Setting up libglu1-mesa:amd64 (9.0.2-1) ...\n",
            "Setting up python3-opengl (3.1.5+dfsg-1) ...\n",
            "Processing triggers for libc-bin (2.35-0ubuntu3.4) ...\n",
            "/sbin/ldconfig.real: /usr/local/lib/libur_adapter_opencl.so.0 is not a symbolic link\n",
            "\n",
            "/sbin/ldconfig.real: /usr/local/lib/libtbbmalloc.so.2 is not a symbolic link\n",
            "\n",
            "/sbin/ldconfig.real: /usr/local/lib/libur_loader.so.0 is not a symbolic link\n",
            "\n",
            "/sbin/ldconfig.real: /usr/local/lib/libumf.so.0 is not a symbolic link\n",
            "\n",
            "/sbin/ldconfig.real: /usr/local/lib/libtcm.so.1 is not a symbolic link\n",
            "\n",
            "/sbin/ldconfig.real: /usr/local/lib/libtbb.so.12 is not a symbolic link\n",
            "\n",
            "/sbin/ldconfig.real: /usr/local/lib/libtbbbind_2_0.so.3 is not a symbolic link\n",
            "\n",
            "/sbin/ldconfig.real: /usr/local/lib/libtcm_debug.so.1 is not a symbolic link\n",
            "\n",
            "/sbin/ldconfig.real: /usr/local/lib/libur_adapter_level_zero.so.0 is not a symbolic link\n",
            "\n",
            "/sbin/ldconfig.real: /usr/local/lib/libtbbbind_2_5.so.3 is not a symbolic link\n",
            "\n",
            "/sbin/ldconfig.real: /usr/local/lib/libtbbbind.so.3 is not a symbolic link\n",
            "\n",
            "/sbin/ldconfig.real: /usr/local/lib/libhwloc.so.15 is not a symbolic link\n",
            "\n",
            "/sbin/ldconfig.real: /usr/local/lib/libtbbmalloc_proxy.so.2 is not a symbolic link\n",
            "\n",
            "Reading package lists... Done\n",
            "Building dependency tree... Done\n",
            "Reading state information... Done\n",
            "ffmpeg is already the newest version (7:4.4.2-0ubuntu0.22.04.1).\n",
            "0 upgraded, 0 newly installed, 0 to remove and 49 not upgraded.\n",
            "Reading package lists... Done\n",
            "Building dependency tree... Done\n",
            "Reading state information... Done\n",
            "The following additional packages will be installed:\n",
            "  libfontenc1 libxfont2 libxkbfile1 x11-xkb-utils xfonts-base xfonts-encodings xfonts-utils\n",
            "  xserver-common\n",
            "The following NEW packages will be installed:\n",
            "  libfontenc1 libxfont2 libxkbfile1 x11-xkb-utils xfonts-base xfonts-encodings xfonts-utils\n",
            "  xserver-common xvfb\n",
            "0 upgraded, 9 newly installed, 0 to remove and 49 not upgraded.\n",
            "Need to get 7,815 kB of archives.\n",
            "After this operation, 11.9 MB of additional disk space will be used.\n",
            "Get:1 http://archive.ubuntu.com/ubuntu jammy/main amd64 libfontenc1 amd64 1:1.1.4-1build3 [14.7 kB]\n",
            "Get:2 http://archive.ubuntu.com/ubuntu jammy/main amd64 libxfont2 amd64 1:2.0.5-1build1 [94.5 kB]\n",
            "Get:3 http://archive.ubuntu.com/ubuntu jammy/main amd64 libxkbfile1 amd64 1:1.1.0-1build3 [71.8 kB]\n",
            "Get:4 http://archive.ubuntu.com/ubuntu jammy/main amd64 x11-xkb-utils amd64 7.7+5build4 [172 kB]\n",
            "Get:5 http://archive.ubuntu.com/ubuntu jammy/main amd64 xfonts-encodings all 1:1.0.5-0ubuntu2 [578 kB]\n",
            "Get:6 http://archive.ubuntu.com/ubuntu jammy/main amd64 xfonts-utils amd64 1:7.7+6build2 [94.6 kB]\n",
            "Get:7 http://archive.ubuntu.com/ubuntu jammy/main amd64 xfonts-base all 1:1.0.5 [5,896 kB]\n",
            "Get:8 http://archive.ubuntu.com/ubuntu jammy-updates/main amd64 xserver-common all 2:21.1.4-2ubuntu1.7~22.04.12 [28.7 kB]\n",
            "Get:9 http://archive.ubuntu.com/ubuntu jammy-updates/universe amd64 xvfb amd64 2:21.1.4-2ubuntu1.7~22.04.12 [864 kB]\n",
            "Fetched 7,815 kB in 2s (4,457 kB/s)\n",
            "Selecting previously unselected package libfontenc1:amd64.\n",
            "(Reading database ... 127472 files and directories currently installed.)\n",
            "Preparing to unpack .../0-libfontenc1_1%3a1.1.4-1build3_amd64.deb ...\n",
            "Unpacking libfontenc1:amd64 (1:1.1.4-1build3) ...\n",
            "Selecting previously unselected package libxfont2:amd64.\n",
            "Preparing to unpack .../1-libxfont2_1%3a2.0.5-1build1_amd64.deb ...\n",
            "Unpacking libxfont2:amd64 (1:2.0.5-1build1) ...\n",
            "Selecting previously unselected package libxkbfile1:amd64.\n",
            "Preparing to unpack .../2-libxkbfile1_1%3a1.1.0-1build3_amd64.deb ...\n",
            "Unpacking libxkbfile1:amd64 (1:1.1.0-1build3) ...\n",
            "Selecting previously unselected package x11-xkb-utils.\n",
            "Preparing to unpack .../3-x11-xkb-utils_7.7+5build4_amd64.deb ...\n",
            "Unpacking x11-xkb-utils (7.7+5build4) ...\n",
            "Selecting previously unselected package xfonts-encodings.\n",
            "Preparing to unpack .../4-xfonts-encodings_1%3a1.0.5-0ubuntu2_all.deb ...\n",
            "Unpacking xfonts-encodings (1:1.0.5-0ubuntu2) ...\n",
            "Selecting previously unselected package xfonts-utils.\n",
            "Preparing to unpack .../5-xfonts-utils_1%3a7.7+6build2_amd64.deb ...\n",
            "Unpacking xfonts-utils (1:7.7+6build2) ...\n",
            "Selecting previously unselected package xfonts-base.\n",
            "Preparing to unpack .../6-xfonts-base_1%3a1.0.5_all.deb ...\n",
            "Unpacking xfonts-base (1:1.0.5) ...\n",
            "Selecting previously unselected package xserver-common.\n",
            "Preparing to unpack .../7-xserver-common_2%3a21.1.4-2ubuntu1.7~22.04.12_all.deb ...\n",
            "Unpacking xserver-common (2:21.1.4-2ubuntu1.7~22.04.12) ...\n",
            "Selecting previously unselected package xvfb.\n",
            "Preparing to unpack .../8-xvfb_2%3a21.1.4-2ubuntu1.7~22.04.12_amd64.deb ...\n",
            "Unpacking xvfb (2:21.1.4-2ubuntu1.7~22.04.12) ...\n",
            "Setting up libfontenc1:amd64 (1:1.1.4-1build3) ...\n",
            "Setting up xfonts-encodings (1:1.0.5-0ubuntu2) ...\n",
            "Setting up libxkbfile1:amd64 (1:1.1.0-1build3) ...\n",
            "Setting up libxfont2:amd64 (1:2.0.5-1build1) ...\n",
            "Setting up x11-xkb-utils (7.7+5build4) ...\n",
            "Setting up xfonts-utils (1:7.7+6build2) ...\n",
            "Setting up xfonts-base (1:1.0.5) ...\n",
            "Setting up xserver-common (2:21.1.4-2ubuntu1.7~22.04.12) ...\n",
            "Setting up xvfb (2:21.1.4-2ubuntu1.7~22.04.12) ...\n",
            "Processing triggers for man-db (2.10.2-1) ...\n",
            "Processing triggers for fontconfig (2.13.1-4.2ubuntu5) ...\n",
            "Processing triggers for libc-bin (2.35-0ubuntu3.4) ...\n",
            "/sbin/ldconfig.real: /usr/local/lib/libur_adapter_opencl.so.0 is not a symbolic link\n",
            "\n",
            "/sbin/ldconfig.real: /usr/local/lib/libtbbmalloc.so.2 is not a symbolic link\n",
            "\n",
            "/sbin/ldconfig.real: /usr/local/lib/libur_loader.so.0 is not a symbolic link\n",
            "\n",
            "/sbin/ldconfig.real: /usr/local/lib/libumf.so.0 is not a symbolic link\n",
            "\n",
            "/sbin/ldconfig.real: /usr/local/lib/libtcm.so.1 is not a symbolic link\n",
            "\n",
            "/sbin/ldconfig.real: /usr/local/lib/libtbb.so.12 is not a symbolic link\n",
            "\n",
            "/sbin/ldconfig.real: /usr/local/lib/libtbbbind_2_0.so.3 is not a symbolic link\n",
            "\n",
            "/sbin/ldconfig.real: /usr/local/lib/libtcm_debug.so.1 is not a symbolic link\n",
            "\n",
            "/sbin/ldconfig.real: /usr/local/lib/libur_adapter_level_zero.so.0 is not a symbolic link\n",
            "\n",
            "/sbin/ldconfig.real: /usr/local/lib/libtbbbind_2_5.so.3 is not a symbolic link\n",
            "\n",
            "/sbin/ldconfig.real: /usr/local/lib/libtbbbind.so.3 is not a symbolic link\n",
            "\n",
            "/sbin/ldconfig.real: /usr/local/lib/libhwloc.so.15 is not a symbolic link\n",
            "\n",
            "/sbin/ldconfig.real: /usr/local/lib/libtbbmalloc_proxy.so.2 is not a symbolic link\n",
            "\n",
            "Collecting pyvirtualdisplay\n",
            "  Downloading PyVirtualDisplay-3.0-py3-none-any.whl.metadata (943 bytes)\n",
            "Downloading PyVirtualDisplay-3.0-py3-none-any.whl (15 kB)\n",
            "Installing collected packages: pyvirtualdisplay\n",
            "Successfully installed pyvirtualdisplay-3.0\n"
          ]
        }
      ],
      "source": [
        "# Creating a virtual display\n",
        "!apt install python3-opengl\n",
        "!apt install ffmpeg\n",
        "!apt install xvfb\n",
        "!pip install pyvirtualdisplay"
      ]
    },
    {
      "cell_type": "markdown",
      "metadata": {
        "id": "62imQBdnq6Cn"
      },
      "source": [
        "Virtual Display\n"
      ]
    },
    {
      "cell_type": "code",
      "execution_count": 6,
      "metadata": {
        "colab": {
          "base_uri": "https://localhost:8080/"
        },
        "id": "SCsxRw5Yq85v",
        "outputId": "e53effa0-10fb-4fea-d040-1a3b42ceb615"
      },
      "outputs": [
        {
          "output_type": "execute_result",
          "data": {
            "text/plain": [
              "<pyvirtualdisplay.display.Display at 0x7e1fa92bfb80>"
            ]
          },
          "metadata": {},
          "execution_count": 6
        }
      ],
      "source": [
        "from pyvirtualdisplay import Display\n",
        "\n",
        "virtual_display = Display(visible=0, size=(1400,900))\n",
        "virtual_display.start()"
      ]
    },
    {
      "cell_type": "code",
      "execution_count": 7,
      "metadata": {
        "colab": {
          "base_uri": "https://localhost:8080/"
        },
        "collapsed": true,
        "id": "qS4Vawnuro98",
        "outputId": "818117e2-c65b-4f06-8899-ad096f722062"
      },
      "outputs": [
        {
          "output_type": "stream",
          "name": "stdout",
          "text": [
            "Collecting atari-py\n",
            "  Downloading atari-py-0.2.9.tar.gz (540 kB)\n",
            "\u001b[?25l     \u001b[90m━━━━━━━━━━━━━━━━━━━━━━━━━━━━━━━━━━━━━━━━\u001b[0m \u001b[32m0.0/540.6 kB\u001b[0m \u001b[31m?\u001b[0m eta \u001b[36m-:--:--\u001b[0m\r\u001b[2K     \u001b[91m━━━━━━━━━━━━━━━━━━━━━━━━━━━━━━━━━━━━━━━\u001b[0m\u001b[90m╺\u001b[0m \u001b[32m532.5/540.6 kB\u001b[0m \u001b[31m17.9 MB/s\u001b[0m eta \u001b[36m0:00:01\u001b[0m\r\u001b[2K     \u001b[90m━━━━━━━━━━━━━━━━━━━━━━━━━━━━━━━━━━━━━━━━\u001b[0m \u001b[32m540.6/540.6 kB\u001b[0m \u001b[31m11.7 MB/s\u001b[0m eta \u001b[36m0:00:00\u001b[0m\n",
            "\u001b[?25h  Preparing metadata (setup.py) ... \u001b[?25l\u001b[?25hdone\n",
            "Requirement already satisfied: numpy in /usr/local/lib/python3.10/dist-packages (from atari-py) (1.26.4)\n",
            "Requirement already satisfied: six in /usr/local/lib/python3.10/dist-packages (from atari-py) (1.17.0)\n",
            "Building wheels for collected packages: atari-py\n",
            "  Building wheel for atari-py (setup.py) ... \u001b[?25l\u001b[?25hdone\n",
            "  Created wheel for atari-py: filename=atari_py-0.2.9-cp310-cp310-linux_x86_64.whl size=2872248 sha256=6942a13ccb618fbaddda9bc1cc2c96a753e484b71ad2262b0a88091bacb1905c\n",
            "  Stored in directory: /root/.cache/pip/wheels/75/6f/04/1f3bf5255580101e16ff487564354dddcdd23ec3b43b775b7a\n",
            "Successfully built atari-py\n",
            "Installing collected packages: atari-py\n",
            "Successfully installed atari-py-0.2.9\n"
          ]
        }
      ],
      "source": [
        "!pip install atari-py"
      ]
    },
    {
      "cell_type": "code",
      "execution_count": 8,
      "metadata": {
        "colab": {
          "base_uri": "https://localhost:8080/"
        },
        "collapsed": true,
        "id": "ojrczbGc9plr",
        "outputId": "3a029188-a167-46a9-fe0f-a3408af1d2ee"
      },
      "outputs": [
        {
          "output_type": "stream",
          "name": "stdout",
          "text": [
            "Requirement already satisfied: gym[box2d] in /usr/local/lib/python3.10/dist-packages (0.25.2)\n",
            "Requirement already satisfied: numpy>=1.18.0 in /usr/local/lib/python3.10/dist-packages (from gym[box2d]) (1.26.4)\n",
            "Requirement already satisfied: cloudpickle>=1.2.0 in /usr/local/lib/python3.10/dist-packages (from gym[box2d]) (3.1.0)\n",
            "Requirement already satisfied: gym_notices>=0.0.4 in /usr/local/lib/python3.10/dist-packages (from gym[box2d]) (0.0.8)\n",
            "Collecting box2d-py==2.3.5 (from gym[box2d])\n",
            "  Downloading box2d-py-2.3.5.tar.gz (374 kB)\n",
            "\u001b[2K     \u001b[90m━━━━━━━━━━━━━━━━━━━━━━━━━━━━━━━━━━━━━━━━\u001b[0m \u001b[32m374.4/374.4 kB\u001b[0m \u001b[31m7.1 MB/s\u001b[0m eta \u001b[36m0:00:00\u001b[0m\n",
            "\u001b[?25h  Preparing metadata (setup.py) ... \u001b[?25l\u001b[?25hdone\n",
            "Collecting pygame==2.1.0 (from gym[box2d])\n",
            "  Downloading pygame-2.1.0-cp310-cp310-manylinux_2_17_x86_64.manylinux2014_x86_64.whl.metadata (9.5 kB)\n",
            "Collecting swig==4.* (from gym[box2d])\n",
            "  Downloading swig-4.3.0-py2.py3-none-manylinux_2_5_x86_64.manylinux1_x86_64.whl.metadata (3.5 kB)\n",
            "Downloading pygame-2.1.0-cp310-cp310-manylinux_2_17_x86_64.manylinux2014_x86_64.whl (18.3 MB)\n",
            "\u001b[2K   \u001b[90m━━━━━━━━━━━━━━━━━━━━━━━━━━━━━━━━━━━━━━━━\u001b[0m \u001b[32m18.3/18.3 MB\u001b[0m \u001b[31m17.2 MB/s\u001b[0m eta \u001b[36m0:00:00\u001b[0m\n",
            "\u001b[?25hDownloading swig-4.3.0-py2.py3-none-manylinux_2_5_x86_64.manylinux1_x86_64.whl (1.9 MB)\n",
            "\u001b[2K   \u001b[90m━━━━━━━━━━━━━━━━━━━━━━━━━━━━━━━━━━━━━━━━\u001b[0m \u001b[32m1.9/1.9 MB\u001b[0m \u001b[31m16.6 MB/s\u001b[0m eta \u001b[36m0:00:00\u001b[0m\n",
            "\u001b[?25hBuilding wheels for collected packages: box2d-py\n",
            "  Building wheel for box2d-py (setup.py) ... \u001b[?25l\u001b[?25hdone\n",
            "  Created wheel for box2d-py: filename=box2d_py-2.3.5-cp310-cp310-linux_x86_64.whl size=2349143 sha256=6f3e2c1a0eac1d746488727d40407e554426ebaf213f7c450484466d4333b4ba\n",
            "  Stored in directory: /root/.cache/pip/wheels/db/8f/6a/eaaadf056fba10a98d986f6dce954e6201ba3126926fc5ad9e\n",
            "Successfully built box2d-py\n",
            "Installing collected packages: swig, box2d-py, pygame\n",
            "  Attempting uninstall: pygame\n",
            "    Found existing installation: pygame 2.6.1\n",
            "    Uninstalling pygame-2.6.1:\n",
            "      Successfully uninstalled pygame-2.6.1\n",
            "Successfully installed box2d-py-2.3.5 pygame-2.1.0 swig-4.3.0\n",
            "Requirement already satisfied: ale-py in /usr/local/lib/python3.10/dist-packages (0.10.1)\n",
            "Requirement already satisfied: numpy>1.20 in /usr/local/lib/python3.10/dist-packages (from ale-py) (1.26.4)\n",
            "Requirement already satisfied: typing-extensions in /usr/local/lib/python3.10/dist-packages (from ale-py) (4.12.2)\n"
          ]
        }
      ],
      "source": [
        "!pip install gym[box2d]  # Install Box2D dependencies\n",
        "!pip install ale-py       # Ensure ALE (for Atari games) is installed\n"
      ]
    },
    {
      "cell_type": "code",
      "execution_count": 9,
      "metadata": {
        "colab": {
          "base_uri": "https://localhost:8080/"
        },
        "id": "Qo9pYadR9Sve",
        "collapsed": true,
        "outputId": "03dc40b1-aaab-4b5a-eb91-d93a4cc8e997"
      },
      "outputs": [
        {
          "output_type": "stream",
          "name": "stderr",
          "text": [
            "/usr/local/lib/python3.10/dist-packages/tensorflow/lite/python/util.py:55: DeprecationWarning: jax.xla_computation is deprecated. Please use the AOT APIs; see https://jax.readthedocs.io/en/latest/aot.html. For example, replace xla_computation(f)(*xs) with jit(f).lower(*xs).compiler_ir('hlo'). See CHANGELOG.md for 0.4.30 for more examples.\n",
            "  from jax import xla_computation as _xla_computation\n"
          ]
        },
        {
          "output_type": "stream",
          "name": "stdout",
          "text": [
            "Using cpu device\n",
            "Wrapping the env in a VecTransposeImage.\n"
          ]
        },
        {
          "output_type": "stream",
          "name": "stderr",
          "text": [
            "/usr/local/lib/python3.10/dist-packages/pygame/pkgdata.py:27: DeprecationWarning: pkg_resources is deprecated as an API. See https://setuptools.pypa.io/en/latest/pkg_resources.html\n",
            "  from pkg_resources import resource_stream, resource_exists\n",
            "/usr/local/lib/python3.10/dist-packages/pkg_resources/__init__.py:3154: DeprecationWarning: Deprecated call to `pkg_resources.declare_namespace('google')`.\n",
            "Implementing implicit namespace packages (as specified in PEP 420) is preferred to `pkg_resources.declare_namespace`. See https://setuptools.pypa.io/en/latest/references/keywords.html#keyword-namespace-packages\n",
            "  declare_namespace(pkg)\n",
            "/usr/local/lib/python3.10/dist-packages/pkg_resources/__init__.py:3154: DeprecationWarning: Deprecated call to `pkg_resources.declare_namespace('google.cloud')`.\n",
            "Implementing implicit namespace packages (as specified in PEP 420) is preferred to `pkg_resources.declare_namespace`. See https://setuptools.pypa.io/en/latest/references/keywords.html#keyword-namespace-packages\n",
            "  declare_namespace(pkg)\n",
            "/usr/local/lib/python3.10/dist-packages/pkg_resources/__init__.py:3154: DeprecationWarning: Deprecated call to `pkg_resources.declare_namespace('sphinxcontrib')`.\n",
            "Implementing implicit namespace packages (as specified in PEP 420) is preferred to `pkg_resources.declare_namespace`. See https://setuptools.pypa.io/en/latest/references/keywords.html#keyword-namespace-packages\n",
            "  declare_namespace(pkg)\n"
          ]
        },
        {
          "output_type": "stream",
          "name": "stdout",
          "text": [
            "Saving video to /Users/abdieljonathan/Documents/GitHub/CS362Fall24Assignment7/rl-video-step-0-to-step-200.mp4\n"
          ]
        },
        {
          "output_type": "stream",
          "name": "stderr",
          "text": [
            "/usr/local/lib/python3.10/dist-packages/moviepy/config_defaults.py:1: DeprecationWarning: invalid escape sequence '\\P'\n",
            "  \"\"\"\n"
          ]
        },
        {
          "output_type": "stream",
          "name": "stdout",
          "text": [
            "Moviepy - Building video /Users/abdieljonathan/Documents/GitHub/CS362Fall24Assignment7/rl-video-step-0-to-step-200.mp4.\n",
            "Moviepy - Writing video /Users/abdieljonathan/Documents/GitHub/CS362Fall24Assignment7/rl-video-step-0-to-step-200.mp4\n",
            "\n"
          ]
        },
        {
          "output_type": "stream",
          "name": "stderr",
          "text": []
        },
        {
          "output_type": "stream",
          "name": "stdout",
          "text": [
            "Moviepy - Done !\n",
            "Moviepy - video ready /Users/abdieljonathan/Documents/GitHub/CS362Fall24Assignment7/rl-video-step-0-to-step-200.mp4\n",
            "Saving video to /Users/abdieljonathan/Documents/GitHub/CS362Fall24Assignment7/rl-video-step-0-to-step-200.mp4\n",
            "Moviepy - Building video /Users/abdieljonathan/Documents/GitHub/CS362Fall24Assignment7/rl-video-step-0-to-step-200.mp4.\n",
            "Moviepy - Writing video /Users/abdieljonathan/Documents/GitHub/CS362Fall24Assignment7/rl-video-step-0-to-step-200.mp4\n",
            "\n"
          ]
        },
        {
          "output_type": "stream",
          "name": "stderr",
          "text": []
        },
        {
          "output_type": "stream",
          "name": "stdout",
          "text": [
            "Moviepy - Done !\n",
            "Moviepy - video ready /Users/abdieljonathan/Documents/GitHub/CS362Fall24Assignment7/rl-video-step-0-to-step-200.mp4\n",
            "---------------------------------\n",
            "| rollout/           |          |\n",
            "|    ep_len_mean     | 1e+03    |\n",
            "|    ep_rew_mean     | -53.4    |\n",
            "| time/              |          |\n",
            "|    fps             | 39       |\n",
            "|    iterations      | 1        |\n",
            "|    time_elapsed    | 104      |\n",
            "|    total_timesteps | 4096     |\n",
            "---------------------------------\n",
            "Saving video to /Users/abdieljonathan/Documents/GitHub/CS362Fall24Assignment7/rl-video-step-0-to-step-200.mp4\n",
            "Moviepy - Building video /Users/abdieljonathan/Documents/GitHub/CS362Fall24Assignment7/rl-video-step-0-to-step-200.mp4.\n",
            "Moviepy - Writing video /Users/abdieljonathan/Documents/GitHub/CS362Fall24Assignment7/rl-video-step-0-to-step-200.mp4\n",
            "\n"
          ]
        },
        {
          "output_type": "stream",
          "name": "stderr",
          "text": []
        },
        {
          "output_type": "stream",
          "name": "stdout",
          "text": [
            "Moviepy - Done !\n",
            "Moviepy - video ready /Users/abdieljonathan/Documents/GitHub/CS362Fall24Assignment7/rl-video-step-0-to-step-200.mp4\n",
            "Saving video to /Users/abdieljonathan/Documents/GitHub/CS362Fall24Assignment7/rl-video-step-0-to-step-200.mp4\n",
            "Moviepy - Building video /Users/abdieljonathan/Documents/GitHub/CS362Fall24Assignment7/rl-video-step-0-to-step-200.mp4.\n",
            "Moviepy - Writing video /Users/abdieljonathan/Documents/GitHub/CS362Fall24Assignment7/rl-video-step-0-to-step-200.mp4\n",
            "\n"
          ]
        },
        {
          "output_type": "stream",
          "name": "stderr",
          "text": []
        },
        {
          "output_type": "stream",
          "name": "stdout",
          "text": [
            "Moviepy - Done !\n",
            "Moviepy - video ready /Users/abdieljonathan/Documents/GitHub/CS362Fall24Assignment7/rl-video-step-0-to-step-200.mp4\n",
            "------------------------------------------\n",
            "| rollout/                |              |\n",
            "|    ep_len_mean          | 1e+03        |\n",
            "|    ep_rew_mean          | -51.8        |\n",
            "| time/                   |              |\n",
            "|    fps                  | 26           |\n",
            "|    iterations           | 2            |\n",
            "|    time_elapsed         | 308          |\n",
            "|    total_timesteps      | 8192         |\n",
            "| train/                  |              |\n",
            "|    approx_kl            | 0.0064034383 |\n",
            "|    clip_fraction        | 0.0823       |\n",
            "|    clip_range           | 0.2          |\n",
            "|    entropy_loss         | -4.25        |\n",
            "|    explained_variance   | -0.00327     |\n",
            "|    learning_rate        | 0.0001       |\n",
            "|    loss                 | 0.129        |\n",
            "|    n_updates            | 10           |\n",
            "|    policy_gradient_loss | -0.00762     |\n",
            "|    std                  | 0.994        |\n",
            "|    value_loss           | 0.729        |\n",
            "------------------------------------------\n",
            "Saving video to /Users/abdieljonathan/Documents/GitHub/CS362Fall24Assignment7/rl-video-step-0-to-step-200.mp4\n",
            "Moviepy - Building video /Users/abdieljonathan/Documents/GitHub/CS362Fall24Assignment7/rl-video-step-0-to-step-200.mp4.\n",
            "Moviepy - Writing video /Users/abdieljonathan/Documents/GitHub/CS362Fall24Assignment7/rl-video-step-0-to-step-200.mp4\n",
            "\n"
          ]
        },
        {
          "output_type": "stream",
          "name": "stderr",
          "text": []
        },
        {
          "output_type": "stream",
          "name": "stdout",
          "text": [
            "Moviepy - Done !\n",
            "Moviepy - video ready /Users/abdieljonathan/Documents/GitHub/CS362Fall24Assignment7/rl-video-step-0-to-step-200.mp4\n",
            "Saving video to /Users/abdieljonathan/Documents/GitHub/CS362Fall24Assignment7/rl-video-step-0-to-step-200.mp4\n",
            "Moviepy - Building video /Users/abdieljonathan/Documents/GitHub/CS362Fall24Assignment7/rl-video-step-0-to-step-200.mp4.\n",
            "Moviepy - Writing video /Users/abdieljonathan/Documents/GitHub/CS362Fall24Assignment7/rl-video-step-0-to-step-200.mp4\n",
            "\n"
          ]
        },
        {
          "output_type": "stream",
          "name": "stderr",
          "text": []
        },
        {
          "output_type": "stream",
          "name": "stdout",
          "text": [
            "Moviepy - Done !\n",
            "Moviepy - video ready /Users/abdieljonathan/Documents/GitHub/CS362Fall24Assignment7/rl-video-step-0-to-step-200.mp4\n",
            "-----------------------------------------\n",
            "| rollout/                |             |\n",
            "|    ep_len_mean          | 1e+03       |\n",
            "|    ep_rew_mean          | -51         |\n",
            "| time/                   |             |\n",
            "|    fps                  | 23          |\n",
            "|    iterations           | 3           |\n",
            "|    time_elapsed         | 514         |\n",
            "|    total_timesteps      | 12288       |\n",
            "| train/                  |             |\n",
            "|    approx_kl            | 0.005669336 |\n",
            "|    clip_fraction        | 0.0575      |\n",
            "|    clip_range           | 0.2         |\n",
            "|    entropy_loss         | -4.23       |\n",
            "|    explained_variance   | 0.243       |\n",
            "|    learning_rate        | 0.0001      |\n",
            "|    loss                 | 0.088       |\n",
            "|    n_updates            | 20          |\n",
            "|    policy_gradient_loss | -0.00565    |\n",
            "|    std                  | 0.991       |\n",
            "|    value_loss           | 0.49        |\n",
            "-----------------------------------------\n",
            "Saving video to /Users/abdieljonathan/Documents/GitHub/CS362Fall24Assignment7/rl-video-step-0-to-step-200.mp4\n",
            "Moviepy - Building video /Users/abdieljonathan/Documents/GitHub/CS362Fall24Assignment7/rl-video-step-0-to-step-200.mp4.\n",
            "Moviepy - Writing video /Users/abdieljonathan/Documents/GitHub/CS362Fall24Assignment7/rl-video-step-0-to-step-200.mp4\n",
            "\n"
          ]
        },
        {
          "output_type": "stream",
          "name": "stderr",
          "text": []
        },
        {
          "output_type": "stream",
          "name": "stdout",
          "text": [
            "Moviepy - Done !\n",
            "Moviepy - video ready /Users/abdieljonathan/Documents/GitHub/CS362Fall24Assignment7/rl-video-step-0-to-step-200.mp4\n",
            "Saving video to /Users/abdieljonathan/Documents/GitHub/CS362Fall24Assignment7/rl-video-step-0-to-step-200.mp4\n",
            "Moviepy - Building video /Users/abdieljonathan/Documents/GitHub/CS362Fall24Assignment7/rl-video-step-0-to-step-200.mp4.\n",
            "Moviepy - Writing video /Users/abdieljonathan/Documents/GitHub/CS362Fall24Assignment7/rl-video-step-0-to-step-200.mp4\n",
            "\n"
          ]
        },
        {
          "output_type": "stream",
          "name": "stderr",
          "text": []
        },
        {
          "output_type": "stream",
          "name": "stdout",
          "text": [
            "Moviepy - Done !\n",
            "Moviepy - video ready /Users/abdieljonathan/Documents/GitHub/CS362Fall24Assignment7/rl-video-step-0-to-step-200.mp4\n",
            "------------------------------------------\n",
            "| rollout/                |              |\n",
            "|    ep_len_mean          | 1e+03        |\n",
            "|    ep_rew_mean          | -48.8        |\n",
            "| time/                   |              |\n",
            "|    fps                  | 22           |\n",
            "|    iterations           | 4            |\n",
            "|    time_elapsed         | 715          |\n",
            "|    total_timesteps      | 16384        |\n",
            "| train/                  |              |\n",
            "|    approx_kl            | 0.0063161263 |\n",
            "|    clip_fraction        | 0.057        |\n",
            "|    clip_range           | 0.2          |\n",
            "|    entropy_loss         | -4.22        |\n",
            "|    explained_variance   | 0.189        |\n",
            "|    learning_rate        | 0.0001       |\n",
            "|    loss                 | 0.169        |\n",
            "|    n_updates            | 30           |\n",
            "|    policy_gradient_loss | -0.00728     |\n",
            "|    std                  | 0.982        |\n",
            "|    value_loss           | 0.467        |\n",
            "------------------------------------------\n",
            "Saving video to /Users/abdieljonathan/Documents/GitHub/CS362Fall24Assignment7/rl-video-step-0-to-step-200.mp4\n",
            "Moviepy - Building video /Users/abdieljonathan/Documents/GitHub/CS362Fall24Assignment7/rl-video-step-0-to-step-200.mp4.\n",
            "Moviepy - Writing video /Users/abdieljonathan/Documents/GitHub/CS362Fall24Assignment7/rl-video-step-0-to-step-200.mp4\n",
            "\n"
          ]
        },
        {
          "output_type": "stream",
          "name": "stderr",
          "text": []
        },
        {
          "output_type": "stream",
          "name": "stdout",
          "text": [
            "Moviepy - Done !\n",
            "Moviepy - video ready /Users/abdieljonathan/Documents/GitHub/CS362Fall24Assignment7/rl-video-step-0-to-step-200.mp4\n",
            "Saving video to /Users/abdieljonathan/Documents/GitHub/CS362Fall24Assignment7/rl-video-step-0-to-step-200.mp4\n",
            "Moviepy - Building video /Users/abdieljonathan/Documents/GitHub/CS362Fall24Assignment7/rl-video-step-0-to-step-200.mp4.\n",
            "Moviepy - Writing video /Users/abdieljonathan/Documents/GitHub/CS362Fall24Assignment7/rl-video-step-0-to-step-200.mp4\n",
            "\n"
          ]
        },
        {
          "output_type": "stream",
          "name": "stderr",
          "text": []
        },
        {
          "output_type": "stream",
          "name": "stdout",
          "text": [
            "Moviepy - Done !\n",
            "Moviepy - video ready /Users/abdieljonathan/Documents/GitHub/CS362Fall24Assignment7/rl-video-step-0-to-step-200.mp4\n",
            "Saving video to /Users/abdieljonathan/Documents/GitHub/CS362Fall24Assignment7/rl-video-step-0-to-step-200.mp4\n",
            "Moviepy - Building video /Users/abdieljonathan/Documents/GitHub/CS362Fall24Assignment7/rl-video-step-0-to-step-200.mp4.\n",
            "Moviepy - Writing video /Users/abdieljonathan/Documents/GitHub/CS362Fall24Assignment7/rl-video-step-0-to-step-200.mp4\n",
            "\n"
          ]
        },
        {
          "output_type": "stream",
          "name": "stderr",
          "text": []
        },
        {
          "output_type": "stream",
          "name": "stdout",
          "text": [
            "Moviepy - Done !\n",
            "Moviepy - video ready /Users/abdieljonathan/Documents/GitHub/CS362Fall24Assignment7/rl-video-step-0-to-step-200.mp4\n",
            "------------------------------------------\n",
            "| rollout/                |              |\n",
            "|    ep_len_mean          | 1e+03        |\n",
            "|    ep_rew_mean          | -47.9        |\n",
            "| time/                   |              |\n",
            "|    fps                  | 22           |\n",
            "|    iterations           | 5            |\n",
            "|    time_elapsed         | 924          |\n",
            "|    total_timesteps      | 20480        |\n",
            "| train/                  |              |\n",
            "|    approx_kl            | 0.0070873396 |\n",
            "|    clip_fraction        | 0.0869       |\n",
            "|    clip_range           | 0.2          |\n",
            "|    entropy_loss         | -4.2         |\n",
            "|    explained_variance   | 0.213        |\n",
            "|    learning_rate        | 0.0001       |\n",
            "|    loss                 | 0.0849       |\n",
            "|    n_updates            | 40           |\n",
            "|    policy_gradient_loss | -0.0107      |\n",
            "|    std                  | 0.977        |\n",
            "|    value_loss           | 0.516        |\n",
            "------------------------------------------\n",
            "Saving video to /Users/abdieljonathan/Documents/GitHub/CS362Fall24Assignment7/rl-video-step-0-to-step-200.mp4\n",
            "Moviepy - Building video /Users/abdieljonathan/Documents/GitHub/CS362Fall24Assignment7/rl-video-step-0-to-step-200.mp4.\n",
            "Moviepy - Writing video /Users/abdieljonathan/Documents/GitHub/CS362Fall24Assignment7/rl-video-step-0-to-step-200.mp4\n",
            "\n"
          ]
        },
        {
          "output_type": "stream",
          "name": "stderr",
          "text": []
        },
        {
          "output_type": "stream",
          "name": "stdout",
          "text": [
            "Moviepy - Done !\n",
            "Moviepy - video ready /Users/abdieljonathan/Documents/GitHub/CS362Fall24Assignment7/rl-video-step-0-to-step-200.mp4\n",
            "Saving video to /Users/abdieljonathan/Documents/GitHub/CS362Fall24Assignment7/rl-video-step-0-to-step-200.mp4\n",
            "Moviepy - Building video /Users/abdieljonathan/Documents/GitHub/CS362Fall24Assignment7/rl-video-step-0-to-step-200.mp4.\n",
            "Moviepy - Writing video /Users/abdieljonathan/Documents/GitHub/CS362Fall24Assignment7/rl-video-step-0-to-step-200.mp4\n",
            "\n"
          ]
        },
        {
          "output_type": "stream",
          "name": "stderr",
          "text": []
        },
        {
          "output_type": "stream",
          "name": "stdout",
          "text": [
            "Moviepy - Done !\n",
            "Moviepy - video ready /Users/abdieljonathan/Documents/GitHub/CS362Fall24Assignment7/rl-video-step-0-to-step-200.mp4\n",
            "-----------------------------------------\n",
            "| rollout/                |             |\n",
            "|    ep_len_mean          | 1e+03       |\n",
            "|    ep_rew_mean          | -50.8       |\n",
            "| time/                   |             |\n",
            "|    fps                  | 21          |\n",
            "|    iterations           | 6           |\n",
            "|    time_elapsed         | 1122        |\n",
            "|    total_timesteps      | 24576       |\n",
            "| train/                  |             |\n",
            "|    approx_kl            | 0.008032436 |\n",
            "|    clip_fraction        | 0.0817      |\n",
            "|    clip_range           | 0.2         |\n",
            "|    entropy_loss         | -4.18       |\n",
            "|    explained_variance   | -0.0493     |\n",
            "|    learning_rate        | 0.0001      |\n",
            "|    loss                 | 0.117       |\n",
            "|    n_updates            | 50          |\n",
            "|    policy_gradient_loss | -0.0112     |\n",
            "|    std                  | 0.975       |\n",
            "|    value_loss           | 0.463       |\n",
            "-----------------------------------------\n",
            "Saving video to /Users/abdieljonathan/Documents/GitHub/CS362Fall24Assignment7/rl-video-step-0-to-step-200.mp4\n",
            "Moviepy - Building video /Users/abdieljonathan/Documents/GitHub/CS362Fall24Assignment7/rl-video-step-0-to-step-200.mp4.\n",
            "Moviepy - Writing video /Users/abdieljonathan/Documents/GitHub/CS362Fall24Assignment7/rl-video-step-0-to-step-200.mp4\n",
            "\n"
          ]
        },
        {
          "output_type": "stream",
          "name": "stderr",
          "text": []
        },
        {
          "output_type": "stream",
          "name": "stdout",
          "text": [
            "Moviepy - Done !\n",
            "Moviepy - video ready /Users/abdieljonathan/Documents/GitHub/CS362Fall24Assignment7/rl-video-step-0-to-step-200.mp4\n",
            "Saving video to /Users/abdieljonathan/Documents/GitHub/CS362Fall24Assignment7/rl-video-step-0-to-step-200.mp4\n",
            "Moviepy - Building video /Users/abdieljonathan/Documents/GitHub/CS362Fall24Assignment7/rl-video-step-0-to-step-200.mp4.\n",
            "Moviepy - Writing video /Users/abdieljonathan/Documents/GitHub/CS362Fall24Assignment7/rl-video-step-0-to-step-200.mp4\n",
            "\n"
          ]
        },
        {
          "output_type": "stream",
          "name": "stderr",
          "text": []
        },
        {
          "output_type": "stream",
          "name": "stdout",
          "text": [
            "Moviepy - Done !\n",
            "Moviepy - video ready /Users/abdieljonathan/Documents/GitHub/CS362Fall24Assignment7/rl-video-step-0-to-step-200.mp4\n",
            "-----------------------------------------\n",
            "| rollout/                |             |\n",
            "|    ep_len_mean          | 1e+03       |\n",
            "|    ep_rew_mean          | -50.9       |\n",
            "| time/                   |             |\n",
            "|    fps                  | 21          |\n",
            "|    iterations           | 7           |\n",
            "|    time_elapsed         | 1321        |\n",
            "|    total_timesteps      | 28672       |\n",
            "| train/                  |             |\n",
            "|    approx_kl            | 0.007867003 |\n",
            "|    clip_fraction        | 0.0711      |\n",
            "|    clip_range           | 0.2         |\n",
            "|    entropy_loss         | -4.17       |\n",
            "|    explained_variance   | 0.129       |\n",
            "|    learning_rate        | 0.0001      |\n",
            "|    loss                 | 0.0632      |\n",
            "|    n_updates            | 60          |\n",
            "|    policy_gradient_loss | -0.00964    |\n",
            "|    std                  | 0.971       |\n",
            "|    value_loss           | 0.297       |\n",
            "-----------------------------------------\n",
            "Saving video to /Users/abdieljonathan/Documents/GitHub/CS362Fall24Assignment7/rl-video-step-0-to-step-200.mp4\n",
            "Moviepy - Building video /Users/abdieljonathan/Documents/GitHub/CS362Fall24Assignment7/rl-video-step-0-to-step-200.mp4.\n",
            "Moviepy - Writing video /Users/abdieljonathan/Documents/GitHub/CS362Fall24Assignment7/rl-video-step-0-to-step-200.mp4\n",
            "\n"
          ]
        },
        {
          "output_type": "stream",
          "name": "stderr",
          "text": []
        },
        {
          "output_type": "stream",
          "name": "stdout",
          "text": [
            "Moviepy - Done !\n",
            "Moviepy - video ready /Users/abdieljonathan/Documents/GitHub/CS362Fall24Assignment7/rl-video-step-0-to-step-200.mp4\n",
            "Saving video to /Users/abdieljonathan/Documents/GitHub/CS362Fall24Assignment7/rl-video-step-0-to-step-200.mp4\n",
            "Moviepy - Building video /Users/abdieljonathan/Documents/GitHub/CS362Fall24Assignment7/rl-video-step-0-to-step-200.mp4.\n",
            "Moviepy - Writing video /Users/abdieljonathan/Documents/GitHub/CS362Fall24Assignment7/rl-video-step-0-to-step-200.mp4\n",
            "\n"
          ]
        },
        {
          "output_type": "stream",
          "name": "stderr",
          "text": []
        },
        {
          "output_type": "stream",
          "name": "stdout",
          "text": [
            "Moviepy - Done !\n",
            "Moviepy - video ready /Users/abdieljonathan/Documents/GitHub/CS362Fall24Assignment7/rl-video-step-0-to-step-200.mp4\n",
            "-----------------------------------------\n",
            "| rollout/                |             |\n",
            "|    ep_len_mean          | 1e+03       |\n",
            "|    ep_rew_mean          | -52         |\n",
            "| time/                   |             |\n",
            "|    fps                  | 21          |\n",
            "|    iterations           | 8           |\n",
            "|    time_elapsed         | 1523        |\n",
            "|    total_timesteps      | 32768       |\n",
            "| train/                  |             |\n",
            "|    approx_kl            | 0.009755932 |\n",
            "|    clip_fraction        | 0.107       |\n",
            "|    clip_range           | 0.2         |\n",
            "|    entropy_loss         | -4.16       |\n",
            "|    explained_variance   | 0.344       |\n",
            "|    learning_rate        | 0.0001      |\n",
            "|    loss                 | 0.0913      |\n",
            "|    n_updates            | 70          |\n",
            "|    policy_gradient_loss | -0.0136     |\n",
            "|    std                  | 0.966       |\n",
            "|    value_loss           | 0.381       |\n",
            "-----------------------------------------\n",
            "Saving video to /Users/abdieljonathan/Documents/GitHub/CS362Fall24Assignment7/rl-video-step-0-to-step-200.mp4\n",
            "Moviepy - Building video /Users/abdieljonathan/Documents/GitHub/CS362Fall24Assignment7/rl-video-step-0-to-step-200.mp4.\n",
            "Moviepy - Writing video /Users/abdieljonathan/Documents/GitHub/CS362Fall24Assignment7/rl-video-step-0-to-step-200.mp4\n",
            "\n"
          ]
        },
        {
          "output_type": "stream",
          "name": "stderr",
          "text": []
        },
        {
          "output_type": "stream",
          "name": "stdout",
          "text": [
            "Moviepy - Done !\n",
            "Moviepy - video ready /Users/abdieljonathan/Documents/GitHub/CS362Fall24Assignment7/rl-video-step-0-to-step-200.mp4\n",
            "Saving video to /Users/abdieljonathan/Documents/GitHub/CS362Fall24Assignment7/rl-video-step-0-to-step-200.mp4\n",
            "Moviepy - Building video /Users/abdieljonathan/Documents/GitHub/CS362Fall24Assignment7/rl-video-step-0-to-step-200.mp4.\n",
            "Moviepy - Writing video /Users/abdieljonathan/Documents/GitHub/CS362Fall24Assignment7/rl-video-step-0-to-step-200.mp4\n",
            "\n"
          ]
        },
        {
          "output_type": "stream",
          "name": "stderr",
          "text": []
        },
        {
          "output_type": "stream",
          "name": "stdout",
          "text": [
            "Moviepy - Done !\n",
            "Moviepy - video ready /Users/abdieljonathan/Documents/GitHub/CS362Fall24Assignment7/rl-video-step-0-to-step-200.mp4\n",
            "-----------------------------------------\n",
            "| rollout/                |             |\n",
            "|    ep_len_mean          | 1e+03       |\n",
            "|    ep_rew_mean          | -53         |\n",
            "| time/                   |             |\n",
            "|    fps                  | 21          |\n",
            "|    iterations           | 9           |\n",
            "|    time_elapsed         | 1724        |\n",
            "|    total_timesteps      | 36864       |\n",
            "| train/                  |             |\n",
            "|    approx_kl            | 0.009506045 |\n",
            "|    clip_fraction        | 0.0965      |\n",
            "|    clip_range           | 0.2         |\n",
            "|    entropy_loss         | -4.15       |\n",
            "|    explained_variance   | 0.573       |\n",
            "|    learning_rate        | 0.0001      |\n",
            "|    loss                 | -0.00738    |\n",
            "|    n_updates            | 80          |\n",
            "|    policy_gradient_loss | -0.0136     |\n",
            "|    std                  | 0.964       |\n",
            "|    value_loss           | 0.227       |\n",
            "-----------------------------------------\n",
            "Saving video to /Users/abdieljonathan/Documents/GitHub/CS362Fall24Assignment7/rl-video-step-0-to-step-200.mp4\n",
            "Moviepy - Building video /Users/abdieljonathan/Documents/GitHub/CS362Fall24Assignment7/rl-video-step-0-to-step-200.mp4.\n",
            "Moviepy - Writing video /Users/abdieljonathan/Documents/GitHub/CS362Fall24Assignment7/rl-video-step-0-to-step-200.mp4\n",
            "\n"
          ]
        },
        {
          "output_type": "stream",
          "name": "stderr",
          "text": []
        },
        {
          "output_type": "stream",
          "name": "stdout",
          "text": [
            "Moviepy - Done !\n",
            "Moviepy - video ready /Users/abdieljonathan/Documents/GitHub/CS362Fall24Assignment7/rl-video-step-0-to-step-200.mp4\n",
            "Saving video to /Users/abdieljonathan/Documents/GitHub/CS362Fall24Assignment7/rl-video-step-0-to-step-200.mp4\n",
            "Moviepy - Building video /Users/abdieljonathan/Documents/GitHub/CS362Fall24Assignment7/rl-video-step-0-to-step-200.mp4.\n",
            "Moviepy - Writing video /Users/abdieljonathan/Documents/GitHub/CS362Fall24Assignment7/rl-video-step-0-to-step-200.mp4\n",
            "\n"
          ]
        },
        {
          "output_type": "stream",
          "name": "stderr",
          "text": []
        },
        {
          "output_type": "stream",
          "name": "stdout",
          "text": [
            "Moviepy - Done !\n",
            "Moviepy - video ready /Users/abdieljonathan/Documents/GitHub/CS362Fall24Assignment7/rl-video-step-0-to-step-200.mp4\n",
            "-----------------------------------------\n",
            "| rollout/                |             |\n",
            "|    ep_len_mean          | 1e+03       |\n",
            "|    ep_rew_mean          | -54.8       |\n",
            "| time/                   |             |\n",
            "|    fps                  | 21          |\n",
            "|    iterations           | 10          |\n",
            "|    time_elapsed         | 1918        |\n",
            "|    total_timesteps      | 40960       |\n",
            "| train/                  |             |\n",
            "|    approx_kl            | 0.008151796 |\n",
            "|    clip_fraction        | 0.0828      |\n",
            "|    clip_range           | 0.2         |\n",
            "|    entropy_loss         | -4.14       |\n",
            "|    explained_variance   | 0.753       |\n",
            "|    learning_rate        | 0.0001      |\n",
            "|    loss                 | -0.0191     |\n",
            "|    n_updates            | 90          |\n",
            "|    policy_gradient_loss | -0.0124     |\n",
            "|    std                  | 0.96        |\n",
            "|    value_loss           | 0.253       |\n",
            "-----------------------------------------\n",
            "Saving video to /Users/abdieljonathan/Documents/GitHub/CS362Fall24Assignment7/rl-video-step-0-to-step-200.mp4\n",
            "Moviepy - Building video /Users/abdieljonathan/Documents/GitHub/CS362Fall24Assignment7/rl-video-step-0-to-step-200.mp4.\n",
            "Moviepy - Writing video /Users/abdieljonathan/Documents/GitHub/CS362Fall24Assignment7/rl-video-step-0-to-step-200.mp4\n",
            "\n"
          ]
        },
        {
          "output_type": "stream",
          "name": "stderr",
          "text": []
        },
        {
          "output_type": "stream",
          "name": "stdout",
          "text": [
            "Moviepy - Done !\n",
            "Moviepy - video ready /Users/abdieljonathan/Documents/GitHub/CS362Fall24Assignment7/rl-video-step-0-to-step-200.mp4\n",
            "Saving video to /Users/abdieljonathan/Documents/GitHub/CS362Fall24Assignment7/rl-video-step-0-to-step-200.mp4\n",
            "Moviepy - Building video /Users/abdieljonathan/Documents/GitHub/CS362Fall24Assignment7/rl-video-step-0-to-step-200.mp4.\n",
            "Moviepy - Writing video /Users/abdieljonathan/Documents/GitHub/CS362Fall24Assignment7/rl-video-step-0-to-step-200.mp4\n",
            "\n"
          ]
        },
        {
          "output_type": "stream",
          "name": "stderr",
          "text": []
        },
        {
          "output_type": "stream",
          "name": "stdout",
          "text": [
            "Moviepy - Done !\n",
            "Moviepy - video ready /Users/abdieljonathan/Documents/GitHub/CS362Fall24Assignment7/rl-video-step-0-to-step-200.mp4\n",
            "------------------------------------------\n",
            "| rollout/                |              |\n",
            "|    ep_len_mean          | 1e+03        |\n",
            "|    ep_rew_mean          | -56.2        |\n",
            "| time/                   |              |\n",
            "|    fps                  | 21           |\n",
            "|    iterations           | 11           |\n",
            "|    time_elapsed         | 2116         |\n",
            "|    total_timesteps      | 45056        |\n",
            "| train/                  |              |\n",
            "|    approx_kl            | 0.0082438905 |\n",
            "|    clip_fraction        | 0.0865       |\n",
            "|    clip_range           | 0.2          |\n",
            "|    entropy_loss         | -4.12        |\n",
            "|    explained_variance   | 0.807        |\n",
            "|    learning_rate        | 0.0001       |\n",
            "|    loss                 | -0.0417      |\n",
            "|    n_updates            | 100          |\n",
            "|    policy_gradient_loss | -0.0115      |\n",
            "|    std                  | 0.952        |\n",
            "|    value_loss           | 0.141        |\n",
            "------------------------------------------\n",
            "Saving video to /Users/abdieljonathan/Documents/GitHub/CS362Fall24Assignment7/rl-video-step-0-to-step-200.mp4\n",
            "Moviepy - Building video /Users/abdieljonathan/Documents/GitHub/CS362Fall24Assignment7/rl-video-step-0-to-step-200.mp4.\n",
            "Moviepy - Writing video /Users/abdieljonathan/Documents/GitHub/CS362Fall24Assignment7/rl-video-step-0-to-step-200.mp4\n",
            "\n"
          ]
        },
        {
          "output_type": "stream",
          "name": "stderr",
          "text": []
        },
        {
          "output_type": "stream",
          "name": "stdout",
          "text": [
            "Moviepy - Done !\n",
            "Moviepy - video ready /Users/abdieljonathan/Documents/GitHub/CS362Fall24Assignment7/rl-video-step-0-to-step-200.mp4\n",
            "Saving video to /Users/abdieljonathan/Documents/GitHub/CS362Fall24Assignment7/rl-video-step-0-to-step-200.mp4\n",
            "Moviepy - Building video /Users/abdieljonathan/Documents/GitHub/CS362Fall24Assignment7/rl-video-step-0-to-step-200.mp4.\n",
            "Moviepy - Writing video /Users/abdieljonathan/Documents/GitHub/CS362Fall24Assignment7/rl-video-step-0-to-step-200.mp4\n",
            "\n"
          ]
        },
        {
          "output_type": "stream",
          "name": "stderr",
          "text": []
        },
        {
          "output_type": "stream",
          "name": "stdout",
          "text": [
            "Moviepy - Done !\n",
            "Moviepy - video ready /Users/abdieljonathan/Documents/GitHub/CS362Fall24Assignment7/rl-video-step-0-to-step-200.mp4\n",
            "-----------------------------------------\n",
            "| rollout/                |             |\n",
            "|    ep_len_mean          | 1e+03       |\n",
            "|    ep_rew_mean          | -56.8       |\n",
            "| time/                   |             |\n",
            "|    fps                  | 21          |\n",
            "|    iterations           | 12          |\n",
            "|    time_elapsed         | 2307        |\n",
            "|    total_timesteps      | 49152       |\n",
            "| train/                  |             |\n",
            "|    approx_kl            | 0.008148007 |\n",
            "|    clip_fraction        | 0.0848      |\n",
            "|    clip_range           | 0.2         |\n",
            "|    entropy_loss         | -4.1        |\n",
            "|    explained_variance   | 0.836       |\n",
            "|    learning_rate        | 0.0001      |\n",
            "|    loss                 | -0.00121    |\n",
            "|    n_updates            | 110         |\n",
            "|    policy_gradient_loss | -0.0112     |\n",
            "|    std                  | 0.949       |\n",
            "|    value_loss           | 0.183       |\n",
            "-----------------------------------------\n",
            "Saving video to /Users/abdieljonathan/Documents/GitHub/CS362Fall24Assignment7/rl-video-step-0-to-step-200.mp4\n",
            "Moviepy - Building video /Users/abdieljonathan/Documents/GitHub/CS362Fall24Assignment7/rl-video-step-0-to-step-200.mp4.\n",
            "Moviepy - Writing video /Users/abdieljonathan/Documents/GitHub/CS362Fall24Assignment7/rl-video-step-0-to-step-200.mp4\n",
            "\n"
          ]
        },
        {
          "output_type": "stream",
          "name": "stderr",
          "text": []
        },
        {
          "output_type": "stream",
          "name": "stdout",
          "text": [
            "Moviepy - Done !\n",
            "Moviepy - video ready /Users/abdieljonathan/Documents/GitHub/CS362Fall24Assignment7/rl-video-step-0-to-step-200.mp4\n",
            "Saving video to /Users/abdieljonathan/Documents/GitHub/CS362Fall24Assignment7/rl-video-step-0-to-step-200.mp4\n",
            "Moviepy - Building video /Users/abdieljonathan/Documents/GitHub/CS362Fall24Assignment7/rl-video-step-0-to-step-200.mp4.\n",
            "Moviepy - Writing video /Users/abdieljonathan/Documents/GitHub/CS362Fall24Assignment7/rl-video-step-0-to-step-200.mp4\n",
            "\n"
          ]
        },
        {
          "output_type": "stream",
          "name": "stderr",
          "text": []
        },
        {
          "output_type": "stream",
          "name": "stdout",
          "text": [
            "Moviepy - Done !\n",
            "Moviepy - video ready /Users/abdieljonathan/Documents/GitHub/CS362Fall24Assignment7/rl-video-step-0-to-step-200.mp4\n",
            "-----------------------------------------\n",
            "| rollout/                |             |\n",
            "|    ep_len_mean          | 1e+03       |\n",
            "|    ep_rew_mean          | -57.9       |\n",
            "| time/                   |             |\n",
            "|    fps                  | 21          |\n",
            "|    iterations           | 13          |\n",
            "|    time_elapsed         | 2501        |\n",
            "|    total_timesteps      | 53248       |\n",
            "| train/                  |             |\n",
            "|    approx_kl            | 0.009414155 |\n",
            "|    clip_fraction        | 0.109       |\n",
            "|    clip_range           | 0.2         |\n",
            "|    entropy_loss         | -4.09       |\n",
            "|    explained_variance   | 0.906       |\n",
            "|    learning_rate        | 0.0001      |\n",
            "|    loss                 | -0.0502     |\n",
            "|    n_updates            | 120         |\n",
            "|    policy_gradient_loss | -0.0113     |\n",
            "|    std                  | 0.947       |\n",
            "|    value_loss           | 0.186       |\n",
            "-----------------------------------------\n",
            "Saving video to /Users/abdieljonathan/Documents/GitHub/CS362Fall24Assignment7/rl-video-step-0-to-step-200.mp4\n",
            "Moviepy - Building video /Users/abdieljonathan/Documents/GitHub/CS362Fall24Assignment7/rl-video-step-0-to-step-200.mp4.\n",
            "Moviepy - Writing video /Users/abdieljonathan/Documents/GitHub/CS362Fall24Assignment7/rl-video-step-0-to-step-200.mp4\n",
            "\n"
          ]
        },
        {
          "output_type": "stream",
          "name": "stderr",
          "text": []
        },
        {
          "output_type": "stream",
          "name": "stdout",
          "text": [
            "Moviepy - Done !\n",
            "Moviepy - video ready /Users/abdieljonathan/Documents/GitHub/CS362Fall24Assignment7/rl-video-step-0-to-step-200.mp4\n",
            "Saving video to /Users/abdieljonathan/Documents/GitHub/CS362Fall24Assignment7/rl-video-step-0-to-step-200.mp4\n",
            "Moviepy - Building video /Users/abdieljonathan/Documents/GitHub/CS362Fall24Assignment7/rl-video-step-0-to-step-200.mp4.\n",
            "Moviepy - Writing video /Users/abdieljonathan/Documents/GitHub/CS362Fall24Assignment7/rl-video-step-0-to-step-200.mp4\n",
            "\n"
          ]
        },
        {
          "output_type": "stream",
          "name": "stderr",
          "text": []
        },
        {
          "output_type": "stream",
          "name": "stdout",
          "text": [
            "Moviepy - Done !\n",
            "Moviepy - video ready /Users/abdieljonathan/Documents/GitHub/CS362Fall24Assignment7/rl-video-step-0-to-step-200.mp4\n",
            "-----------------------------------------\n",
            "| rollout/                |             |\n",
            "|    ep_len_mean          | 1e+03       |\n",
            "|    ep_rew_mean          | -59         |\n",
            "| time/                   |             |\n",
            "|    fps                  | 21          |\n",
            "|    iterations           | 14          |\n",
            "|    time_elapsed         | 2697        |\n",
            "|    total_timesteps      | 57344       |\n",
            "| train/                  |             |\n",
            "|    approx_kl            | 0.011336641 |\n",
            "|    clip_fraction        | 0.104       |\n",
            "|    clip_range           | 0.2         |\n",
            "|    entropy_loss         | -4.08       |\n",
            "|    explained_variance   | 0.917       |\n",
            "|    learning_rate        | 0.0001      |\n",
            "|    loss                 | -0.0163     |\n",
            "|    n_updates            | 130         |\n",
            "|    policy_gradient_loss | -0.0111     |\n",
            "|    std                  | 0.942       |\n",
            "|    value_loss           | 0.147       |\n",
            "-----------------------------------------\n",
            "Saving video to /Users/abdieljonathan/Documents/GitHub/CS362Fall24Assignment7/rl-video-step-0-to-step-200.mp4\n",
            "Moviepy - Building video /Users/abdieljonathan/Documents/GitHub/CS362Fall24Assignment7/rl-video-step-0-to-step-200.mp4.\n",
            "Moviepy - Writing video /Users/abdieljonathan/Documents/GitHub/CS362Fall24Assignment7/rl-video-step-0-to-step-200.mp4\n",
            "\n"
          ]
        },
        {
          "output_type": "stream",
          "name": "stderr",
          "text": []
        },
        {
          "output_type": "stream",
          "name": "stdout",
          "text": [
            "Moviepy - Done !\n",
            "Moviepy - video ready /Users/abdieljonathan/Documents/GitHub/CS362Fall24Assignment7/rl-video-step-0-to-step-200.mp4\n",
            "Saving video to /Users/abdieljonathan/Documents/GitHub/CS362Fall24Assignment7/rl-video-step-0-to-step-200.mp4\n",
            "Moviepy - Building video /Users/abdieljonathan/Documents/GitHub/CS362Fall24Assignment7/rl-video-step-0-to-step-200.mp4.\n",
            "Moviepy - Writing video /Users/abdieljonathan/Documents/GitHub/CS362Fall24Assignment7/rl-video-step-0-to-step-200.mp4\n",
            "\n"
          ]
        },
        {
          "output_type": "stream",
          "name": "stderr",
          "text": []
        },
        {
          "output_type": "stream",
          "name": "stdout",
          "text": [
            "Moviepy - Done !\n",
            "Moviepy - video ready /Users/abdieljonathan/Documents/GitHub/CS362Fall24Assignment7/rl-video-step-0-to-step-200.mp4\n",
            "---------------------------------------\n",
            "| rollout/                |           |\n",
            "|    ep_len_mean          | 1e+03     |\n",
            "|    ep_rew_mean          | -59.8     |\n",
            "| time/                   |           |\n",
            "|    fps                  | 21        |\n",
            "|    iterations           | 15        |\n",
            "|    time_elapsed         | 2890      |\n",
            "|    total_timesteps      | 61440     |\n",
            "| train/                  |           |\n",
            "|    approx_kl            | 0.0086146 |\n",
            "|    clip_fraction        | 0.0934    |\n",
            "|    clip_range           | 0.2       |\n",
            "|    entropy_loss         | -4.06     |\n",
            "|    explained_variance   | 0.916     |\n",
            "|    learning_rate        | 0.0001    |\n",
            "|    loss                 | -0.0423   |\n",
            "|    n_updates            | 140       |\n",
            "|    policy_gradient_loss | -0.00941  |\n",
            "|    std                  | 0.937     |\n",
            "|    value_loss           | 0.125     |\n",
            "---------------------------------------\n",
            "Saving video to /Users/abdieljonathan/Documents/GitHub/CS362Fall24Assignment7/rl-video-step-0-to-step-200.mp4\n",
            "Moviepy - Building video /Users/abdieljonathan/Documents/GitHub/CS362Fall24Assignment7/rl-video-step-0-to-step-200.mp4.\n",
            "Moviepy - Writing video /Users/abdieljonathan/Documents/GitHub/CS362Fall24Assignment7/rl-video-step-0-to-step-200.mp4\n",
            "\n"
          ]
        },
        {
          "output_type": "stream",
          "name": "stderr",
          "text": []
        },
        {
          "output_type": "stream",
          "name": "stdout",
          "text": [
            "Moviepy - Done !\n",
            "Moviepy - video ready /Users/abdieljonathan/Documents/GitHub/CS362Fall24Assignment7/rl-video-step-0-to-step-200.mp4\n",
            "Saving video to /Users/abdieljonathan/Documents/GitHub/CS362Fall24Assignment7/rl-video-step-0-to-step-200.mp4\n",
            "Moviepy - Building video /Users/abdieljonathan/Documents/GitHub/CS362Fall24Assignment7/rl-video-step-0-to-step-200.mp4.\n",
            "Moviepy - Writing video /Users/abdieljonathan/Documents/GitHub/CS362Fall24Assignment7/rl-video-step-0-to-step-200.mp4\n",
            "\n"
          ]
        },
        {
          "output_type": "stream",
          "name": "stderr",
          "text": []
        },
        {
          "output_type": "stream",
          "name": "stdout",
          "text": [
            "Moviepy - Done !\n",
            "Moviepy - video ready /Users/abdieljonathan/Documents/GitHub/CS362Fall24Assignment7/rl-video-step-0-to-step-200.mp4\n",
            "-----------------------------------------\n",
            "| rollout/                |             |\n",
            "|    ep_len_mean          | 1e+03       |\n",
            "|    ep_rew_mean          | -59.9       |\n",
            "| time/                   |             |\n",
            "|    fps                  | 21          |\n",
            "|    iterations           | 16          |\n",
            "|    time_elapsed         | 3084        |\n",
            "|    total_timesteps      | 65536       |\n",
            "| train/                  |             |\n",
            "|    approx_kl            | 0.009505143 |\n",
            "|    clip_fraction        | 0.0871      |\n",
            "|    clip_range           | 0.2         |\n",
            "|    entropy_loss         | -4.05       |\n",
            "|    explained_variance   | 0.934       |\n",
            "|    learning_rate        | 0.0001      |\n",
            "|    loss                 | -0.0223     |\n",
            "|    n_updates            | 150         |\n",
            "|    policy_gradient_loss | -0.0101     |\n",
            "|    std                  | 0.934       |\n",
            "|    value_loss           | 0.21        |\n",
            "-----------------------------------------\n",
            "Saving video to /Users/abdieljonathan/Documents/GitHub/CS362Fall24Assignment7/rl-video-step-0-to-step-200.mp4\n",
            "Moviepy - Building video /Users/abdieljonathan/Documents/GitHub/CS362Fall24Assignment7/rl-video-step-0-to-step-200.mp4.\n",
            "Moviepy - Writing video /Users/abdieljonathan/Documents/GitHub/CS362Fall24Assignment7/rl-video-step-0-to-step-200.mp4\n",
            "\n"
          ]
        },
        {
          "output_type": "stream",
          "name": "stderr",
          "text": []
        },
        {
          "output_type": "stream",
          "name": "stdout",
          "text": [
            "Moviepy - Done !\n",
            "Moviepy - video ready /Users/abdieljonathan/Documents/GitHub/CS362Fall24Assignment7/rl-video-step-0-to-step-200.mp4\n",
            "Saving video to /Users/abdieljonathan/Documents/GitHub/CS362Fall24Assignment7/rl-video-step-0-to-step-200.mp4\n",
            "Moviepy - Building video /Users/abdieljonathan/Documents/GitHub/CS362Fall24Assignment7/rl-video-step-0-to-step-200.mp4.\n",
            "Moviepy - Writing video /Users/abdieljonathan/Documents/GitHub/CS362Fall24Assignment7/rl-video-step-0-to-step-200.mp4\n",
            "\n"
          ]
        },
        {
          "output_type": "stream",
          "name": "stderr",
          "text": []
        },
        {
          "output_type": "stream",
          "name": "stdout",
          "text": [
            "Moviepy - Done !\n",
            "Moviepy - video ready /Users/abdieljonathan/Documents/GitHub/CS362Fall24Assignment7/rl-video-step-0-to-step-200.mp4\n",
            "-----------------------------------------\n",
            "| rollout/                |             |\n",
            "|    ep_len_mean          | 1e+03       |\n",
            "|    ep_rew_mean          | -60.3       |\n",
            "| time/                   |             |\n",
            "|    fps                  | 21          |\n",
            "|    iterations           | 17          |\n",
            "|    time_elapsed         | 3276        |\n",
            "|    total_timesteps      | 69632       |\n",
            "| train/                  |             |\n",
            "|    approx_kl            | 0.009802239 |\n",
            "|    clip_fraction        | 0.124       |\n",
            "|    clip_range           | 0.2         |\n",
            "|    entropy_loss         | -4.04       |\n",
            "|    explained_variance   | 0.921       |\n",
            "|    learning_rate        | 0.0001      |\n",
            "|    loss                 | 0.0302      |\n",
            "|    n_updates            | 160         |\n",
            "|    policy_gradient_loss | -0.0137     |\n",
            "|    std                  | 0.93        |\n",
            "|    value_loss           | 0.15        |\n",
            "-----------------------------------------\n",
            "Saving video to /Users/abdieljonathan/Documents/GitHub/CS362Fall24Assignment7/rl-video-step-0-to-step-200.mp4\n",
            "Moviepy - Building video /Users/abdieljonathan/Documents/GitHub/CS362Fall24Assignment7/rl-video-step-0-to-step-200.mp4.\n",
            "Moviepy - Writing video /Users/abdieljonathan/Documents/GitHub/CS362Fall24Assignment7/rl-video-step-0-to-step-200.mp4\n",
            "\n"
          ]
        },
        {
          "output_type": "stream",
          "name": "stderr",
          "text": []
        },
        {
          "output_type": "stream",
          "name": "stdout",
          "text": [
            "Moviepy - Done !\n",
            "Moviepy - video ready /Users/abdieljonathan/Documents/GitHub/CS362Fall24Assignment7/rl-video-step-0-to-step-200.mp4\n",
            "Saving video to /Users/abdieljonathan/Documents/GitHub/CS362Fall24Assignment7/rl-video-step-0-to-step-200.mp4\n",
            "Moviepy - Building video /Users/abdieljonathan/Documents/GitHub/CS362Fall24Assignment7/rl-video-step-0-to-step-200.mp4.\n",
            "Moviepy - Writing video /Users/abdieljonathan/Documents/GitHub/CS362Fall24Assignment7/rl-video-step-0-to-step-200.mp4\n",
            "\n"
          ]
        },
        {
          "output_type": "stream",
          "name": "stderr",
          "text": []
        },
        {
          "output_type": "stream",
          "name": "stdout",
          "text": [
            "Moviepy - Done !\n",
            "Moviepy - video ready /Users/abdieljonathan/Documents/GitHub/CS362Fall24Assignment7/rl-video-step-0-to-step-200.mp4\n",
            "-----------------------------------------\n",
            "| rollout/                |             |\n",
            "|    ep_len_mean          | 1e+03       |\n",
            "|    ep_rew_mean          | -60.9       |\n",
            "| time/                   |             |\n",
            "|    fps                  | 21          |\n",
            "|    iterations           | 18          |\n",
            "|    time_elapsed         | 3465        |\n",
            "|    total_timesteps      | 73728       |\n",
            "| train/                  |             |\n",
            "|    approx_kl            | 0.012627449 |\n",
            "|    clip_fraction        | 0.123       |\n",
            "|    clip_range           | 0.2         |\n",
            "|    entropy_loss         | -4.03       |\n",
            "|    explained_variance   | 0.932       |\n",
            "|    learning_rate        | 0.0001      |\n",
            "|    loss                 | -0.0484     |\n",
            "|    n_updates            | 170         |\n",
            "|    policy_gradient_loss | -0.0137     |\n",
            "|    std                  | 0.932       |\n",
            "|    value_loss           | 0.102       |\n",
            "-----------------------------------------\n",
            "Saving video to /Users/abdieljonathan/Documents/GitHub/CS362Fall24Assignment7/rl-video-step-0-to-step-200.mp4\n",
            "Moviepy - Building video /Users/abdieljonathan/Documents/GitHub/CS362Fall24Assignment7/rl-video-step-0-to-step-200.mp4.\n",
            "Moviepy - Writing video /Users/abdieljonathan/Documents/GitHub/CS362Fall24Assignment7/rl-video-step-0-to-step-200.mp4\n",
            "\n"
          ]
        },
        {
          "output_type": "stream",
          "name": "stderr",
          "text": []
        },
        {
          "output_type": "stream",
          "name": "stdout",
          "text": [
            "Moviepy - Done !\n",
            "Moviepy - video ready /Users/abdieljonathan/Documents/GitHub/CS362Fall24Assignment7/rl-video-step-0-to-step-200.mp4\n",
            "Saving video to /Users/abdieljonathan/Documents/GitHub/CS362Fall24Assignment7/rl-video-step-0-to-step-200.mp4\n",
            "Moviepy - Building video /Users/abdieljonathan/Documents/GitHub/CS362Fall24Assignment7/rl-video-step-0-to-step-200.mp4.\n",
            "Moviepy - Writing video /Users/abdieljonathan/Documents/GitHub/CS362Fall24Assignment7/rl-video-step-0-to-step-200.mp4\n",
            "\n"
          ]
        },
        {
          "output_type": "stream",
          "name": "stderr",
          "text": []
        },
        {
          "output_type": "stream",
          "name": "stdout",
          "text": [
            "Moviepy - Done !\n",
            "Moviepy - video ready /Users/abdieljonathan/Documents/GitHub/CS362Fall24Assignment7/rl-video-step-0-to-step-200.mp4\n",
            "-----------------------------------------\n",
            "| rollout/                |             |\n",
            "|    ep_len_mean          | 1e+03       |\n",
            "|    ep_rew_mean          | -60.3       |\n",
            "| time/                   |             |\n",
            "|    fps                  | 21          |\n",
            "|    iterations           | 19          |\n",
            "|    time_elapsed         | 3657        |\n",
            "|    total_timesteps      | 77824       |\n",
            "| train/                  |             |\n",
            "|    approx_kl            | 0.009363114 |\n",
            "|    clip_fraction        | 0.0835      |\n",
            "|    clip_range           | 0.2         |\n",
            "|    entropy_loss         | -4.02       |\n",
            "|    explained_variance   | 0.955       |\n",
            "|    learning_rate        | 0.0001      |\n",
            "|    loss                 | -0.024      |\n",
            "|    n_updates            | 180         |\n",
            "|    policy_gradient_loss | -0.011      |\n",
            "|    std                  | 0.925       |\n",
            "|    value_loss           | 0.13        |\n",
            "-----------------------------------------\n",
            "Saving video to /Users/abdieljonathan/Documents/GitHub/CS362Fall24Assignment7/rl-video-step-0-to-step-200.mp4\n",
            "Moviepy - Building video /Users/abdieljonathan/Documents/GitHub/CS362Fall24Assignment7/rl-video-step-0-to-step-200.mp4.\n",
            "Moviepy - Writing video /Users/abdieljonathan/Documents/GitHub/CS362Fall24Assignment7/rl-video-step-0-to-step-200.mp4\n",
            "\n"
          ]
        },
        {
          "output_type": "stream",
          "name": "stderr",
          "text": []
        },
        {
          "output_type": "stream",
          "name": "stdout",
          "text": [
            "Moviepy - Done !\n",
            "Moviepy - video ready /Users/abdieljonathan/Documents/GitHub/CS362Fall24Assignment7/rl-video-step-0-to-step-200.mp4\n",
            "Saving video to /Users/abdieljonathan/Documents/GitHub/CS362Fall24Assignment7/rl-video-step-0-to-step-200.mp4\n",
            "Moviepy - Building video /Users/abdieljonathan/Documents/GitHub/CS362Fall24Assignment7/rl-video-step-0-to-step-200.mp4.\n",
            "Moviepy - Writing video /Users/abdieljonathan/Documents/GitHub/CS362Fall24Assignment7/rl-video-step-0-to-step-200.mp4\n",
            "\n"
          ]
        },
        {
          "output_type": "stream",
          "name": "stderr",
          "text": []
        },
        {
          "output_type": "stream",
          "name": "stdout",
          "text": [
            "Moviepy - Done !\n",
            "Moviepy - video ready /Users/abdieljonathan/Documents/GitHub/CS362Fall24Assignment7/rl-video-step-0-to-step-200.mp4\n",
            "-----------------------------------------\n",
            "| rollout/                |             |\n",
            "|    ep_len_mean          | 1e+03       |\n",
            "|    ep_rew_mean          | -60.5       |\n",
            "| time/                   |             |\n",
            "|    fps                  | 21          |\n",
            "|    iterations           | 20          |\n",
            "|    time_elapsed         | 3851        |\n",
            "|    total_timesteps      | 81920       |\n",
            "| train/                  |             |\n",
            "|    approx_kl            | 0.011075238 |\n",
            "|    clip_fraction        | 0.121       |\n",
            "|    clip_range           | 0.2         |\n",
            "|    entropy_loss         | -4          |\n",
            "|    explained_variance   | 0.948       |\n",
            "|    learning_rate        | 0.0001      |\n",
            "|    loss                 | 0.00317     |\n",
            "|    n_updates            | 190         |\n",
            "|    policy_gradient_loss | -0.0146     |\n",
            "|    std                  | 0.92        |\n",
            "|    value_loss           | 0.218       |\n",
            "-----------------------------------------\n",
            "Saving video to /Users/abdieljonathan/Documents/GitHub/CS362Fall24Assignment7/rl-video-step-0-to-step-200.mp4\n",
            "Moviepy - Building video /Users/abdieljonathan/Documents/GitHub/CS362Fall24Assignment7/rl-video-step-0-to-step-200.mp4.\n",
            "Moviepy - Writing video /Users/abdieljonathan/Documents/GitHub/CS362Fall24Assignment7/rl-video-step-0-to-step-200.mp4\n",
            "\n"
          ]
        },
        {
          "output_type": "stream",
          "name": "stderr",
          "text": []
        },
        {
          "output_type": "stream",
          "name": "stdout",
          "text": [
            "Moviepy - Done !\n",
            "Moviepy - video ready /Users/abdieljonathan/Documents/GitHub/CS362Fall24Assignment7/rl-video-step-0-to-step-200.mp4\n",
            "Saving video to /Users/abdieljonathan/Documents/GitHub/CS362Fall24Assignment7/rl-video-step-0-to-step-200.mp4\n",
            "Moviepy - Building video /Users/abdieljonathan/Documents/GitHub/CS362Fall24Assignment7/rl-video-step-0-to-step-200.mp4.\n",
            "Moviepy - Writing video /Users/abdieljonathan/Documents/GitHub/CS362Fall24Assignment7/rl-video-step-0-to-step-200.mp4\n",
            "\n"
          ]
        },
        {
          "output_type": "stream",
          "name": "stderr",
          "text": []
        },
        {
          "output_type": "stream",
          "name": "stdout",
          "text": [
            "Moviepy - Done !\n",
            "Moviepy - video ready /Users/abdieljonathan/Documents/GitHub/CS362Fall24Assignment7/rl-video-step-0-to-step-200.mp4\n",
            "-----------------------------------------\n",
            "| rollout/                |             |\n",
            "|    ep_len_mean          | 1e+03       |\n",
            "|    ep_rew_mean          | -61         |\n",
            "| time/                   |             |\n",
            "|    fps                  | 21          |\n",
            "|    iterations           | 21          |\n",
            "|    time_elapsed         | 4045        |\n",
            "|    total_timesteps      | 86016       |\n",
            "| train/                  |             |\n",
            "|    approx_kl            | 0.015012989 |\n",
            "|    clip_fraction        | 0.13        |\n",
            "|    clip_range           | 0.2         |\n",
            "|    entropy_loss         | -4          |\n",
            "|    explained_variance   | 0.969       |\n",
            "|    learning_rate        | 0.0001      |\n",
            "|    loss                 | -0.059      |\n",
            "|    n_updates            | 200         |\n",
            "|    policy_gradient_loss | -0.0178     |\n",
            "|    std                  | 0.918       |\n",
            "|    value_loss           | 0.1         |\n",
            "-----------------------------------------\n",
            "Saving video to /Users/abdieljonathan/Documents/GitHub/CS362Fall24Assignment7/rl-video-step-0-to-step-200.mp4\n",
            "Moviepy - Building video /Users/abdieljonathan/Documents/GitHub/CS362Fall24Assignment7/rl-video-step-0-to-step-200.mp4.\n",
            "Moviepy - Writing video /Users/abdieljonathan/Documents/GitHub/CS362Fall24Assignment7/rl-video-step-0-to-step-200.mp4\n",
            "\n"
          ]
        },
        {
          "output_type": "stream",
          "name": "stderr",
          "text": []
        },
        {
          "output_type": "stream",
          "name": "stdout",
          "text": [
            "Moviepy - Done !\n",
            "Moviepy - video ready /Users/abdieljonathan/Documents/GitHub/CS362Fall24Assignment7/rl-video-step-0-to-step-200.mp4\n",
            "Saving video to /Users/abdieljonathan/Documents/GitHub/CS362Fall24Assignment7/rl-video-step-0-to-step-200.mp4\n",
            "Moviepy - Building video /Users/abdieljonathan/Documents/GitHub/CS362Fall24Assignment7/rl-video-step-0-to-step-200.mp4.\n",
            "Moviepy - Writing video /Users/abdieljonathan/Documents/GitHub/CS362Fall24Assignment7/rl-video-step-0-to-step-200.mp4\n",
            "\n"
          ]
        },
        {
          "output_type": "stream",
          "name": "stderr",
          "text": []
        },
        {
          "output_type": "stream",
          "name": "stdout",
          "text": [
            "Moviepy - Done !\n",
            "Moviepy - video ready /Users/abdieljonathan/Documents/GitHub/CS362Fall24Assignment7/rl-video-step-0-to-step-200.mp4\n",
            "-----------------------------------------\n",
            "| rollout/                |             |\n",
            "|    ep_len_mean          | 1e+03       |\n",
            "|    ep_rew_mean          | -61.4       |\n",
            "| time/                   |             |\n",
            "|    fps                  | 21          |\n",
            "|    iterations           | 22          |\n",
            "|    time_elapsed         | 4240        |\n",
            "|    total_timesteps      | 90112       |\n",
            "| train/                  |             |\n",
            "|    approx_kl            | 0.014070821 |\n",
            "|    clip_fraction        | 0.137       |\n",
            "|    clip_range           | 0.2         |\n",
            "|    entropy_loss         | -3.99       |\n",
            "|    explained_variance   | 0.973       |\n",
            "|    learning_rate        | 0.0001      |\n",
            "|    loss                 | -0.0204     |\n",
            "|    n_updates            | 210         |\n",
            "|    policy_gradient_loss | -0.0182     |\n",
            "|    std                  | 0.918       |\n",
            "|    value_loss           | 0.098       |\n",
            "-----------------------------------------\n",
            "Saving video to /Users/abdieljonathan/Documents/GitHub/CS362Fall24Assignment7/rl-video-step-0-to-step-200.mp4\n",
            "Moviepy - Building video /Users/abdieljonathan/Documents/GitHub/CS362Fall24Assignment7/rl-video-step-0-to-step-200.mp4.\n",
            "Moviepy - Writing video /Users/abdieljonathan/Documents/GitHub/CS362Fall24Assignment7/rl-video-step-0-to-step-200.mp4\n",
            "\n"
          ]
        },
        {
          "output_type": "stream",
          "name": "stderr",
          "text": []
        },
        {
          "output_type": "stream",
          "name": "stdout",
          "text": [
            "Moviepy - Done !\n",
            "Moviepy - video ready /Users/abdieljonathan/Documents/GitHub/CS362Fall24Assignment7/rl-video-step-0-to-step-200.mp4\n",
            "Saving video to /Users/abdieljonathan/Documents/GitHub/CS362Fall24Assignment7/rl-video-step-0-to-step-200.mp4\n",
            "Moviepy - Building video /Users/abdieljonathan/Documents/GitHub/CS362Fall24Assignment7/rl-video-step-0-to-step-200.mp4.\n",
            "Moviepy - Writing video /Users/abdieljonathan/Documents/GitHub/CS362Fall24Assignment7/rl-video-step-0-to-step-200.mp4\n",
            "\n"
          ]
        },
        {
          "output_type": "stream",
          "name": "stderr",
          "text": []
        },
        {
          "output_type": "stream",
          "name": "stdout",
          "text": [
            "Moviepy - Done !\n",
            "Moviepy - video ready /Users/abdieljonathan/Documents/GitHub/CS362Fall24Assignment7/rl-video-step-0-to-step-200.mp4\n",
            "-----------------------------------------\n",
            "| rollout/                |             |\n",
            "|    ep_len_mean          | 1e+03       |\n",
            "|    ep_rew_mean          | -61.6       |\n",
            "| time/                   |             |\n",
            "|    fps                  | 21          |\n",
            "|    iterations           | 23          |\n",
            "|    time_elapsed         | 4443        |\n",
            "|    total_timesteps      | 94208       |\n",
            "| train/                  |             |\n",
            "|    approx_kl            | 0.011008093 |\n",
            "|    clip_fraction        | 0.108       |\n",
            "|    clip_range           | 0.2         |\n",
            "|    entropy_loss         | -3.99       |\n",
            "|    explained_variance   | 0.971       |\n",
            "|    learning_rate        | 0.0001      |\n",
            "|    loss                 | 0.023       |\n",
            "|    n_updates            | 220         |\n",
            "|    policy_gradient_loss | -0.0138     |\n",
            "|    std                  | 0.92        |\n",
            "|    value_loss           | 0.0935      |\n",
            "-----------------------------------------\n",
            "Saving video to /Users/abdieljonathan/Documents/GitHub/CS362Fall24Assignment7/rl-video-step-0-to-step-200.mp4\n",
            "Moviepy - Building video /Users/abdieljonathan/Documents/GitHub/CS362Fall24Assignment7/rl-video-step-0-to-step-200.mp4.\n",
            "Moviepy - Writing video /Users/abdieljonathan/Documents/GitHub/CS362Fall24Assignment7/rl-video-step-0-to-step-200.mp4\n",
            "\n"
          ]
        },
        {
          "output_type": "stream",
          "name": "stderr",
          "text": []
        },
        {
          "output_type": "stream",
          "name": "stdout",
          "text": [
            "Moviepy - Done !\n",
            "Moviepy - video ready /Users/abdieljonathan/Documents/GitHub/CS362Fall24Assignment7/rl-video-step-0-to-step-200.mp4\n",
            "Saving video to /Users/abdieljonathan/Documents/GitHub/CS362Fall24Assignment7/rl-video-step-0-to-step-200.mp4\n",
            "Moviepy - Building video /Users/abdieljonathan/Documents/GitHub/CS362Fall24Assignment7/rl-video-step-0-to-step-200.mp4.\n",
            "Moviepy - Writing video /Users/abdieljonathan/Documents/GitHub/CS362Fall24Assignment7/rl-video-step-0-to-step-200.mp4\n",
            "\n"
          ]
        },
        {
          "output_type": "stream",
          "name": "stderr",
          "text": []
        },
        {
          "output_type": "stream",
          "name": "stdout",
          "text": [
            "Moviepy - Done !\n",
            "Moviepy - video ready /Users/abdieljonathan/Documents/GitHub/CS362Fall24Assignment7/rl-video-step-0-to-step-200.mp4\n",
            "-----------------------------------------\n",
            "| rollout/                |             |\n",
            "|    ep_len_mean          | 1e+03       |\n",
            "|    ep_rew_mean          | -61.6       |\n",
            "| time/                   |             |\n",
            "|    fps                  | 21          |\n",
            "|    iterations           | 24          |\n",
            "|    time_elapsed         | 4647        |\n",
            "|    total_timesteps      | 98304       |\n",
            "| train/                  |             |\n",
            "|    approx_kl            | 0.013552461 |\n",
            "|    clip_fraction        | 0.131       |\n",
            "|    clip_range           | 0.2         |\n",
            "|    entropy_loss         | -3.99       |\n",
            "|    explained_variance   | 0.967       |\n",
            "|    learning_rate        | 0.0001      |\n",
            "|    loss                 | -0.0114     |\n",
            "|    n_updates            | 230         |\n",
            "|    policy_gradient_loss | -0.0175     |\n",
            "|    std                  | 0.919       |\n",
            "|    value_loss           | 0.111       |\n",
            "-----------------------------------------\n",
            "Saving video to /Users/abdieljonathan/Documents/GitHub/CS362Fall24Assignment7/rl-video-step-0-to-step-200.mp4\n",
            "Moviepy - Building video /Users/abdieljonathan/Documents/GitHub/CS362Fall24Assignment7/rl-video-step-0-to-step-200.mp4.\n",
            "Moviepy - Writing video /Users/abdieljonathan/Documents/GitHub/CS362Fall24Assignment7/rl-video-step-0-to-step-200.mp4\n",
            "\n"
          ]
        },
        {
          "output_type": "stream",
          "name": "stderr",
          "text": []
        },
        {
          "output_type": "stream",
          "name": "stdout",
          "text": [
            "Moviepy - Done !\n",
            "Moviepy - video ready /Users/abdieljonathan/Documents/GitHub/CS362Fall24Assignment7/rl-video-step-0-to-step-200.mp4\n",
            "Saving video to /Users/abdieljonathan/Documents/GitHub/CS362Fall24Assignment7/rl-video-step-0-to-step-200.mp4\n",
            "Moviepy - Building video /Users/abdieljonathan/Documents/GitHub/CS362Fall24Assignment7/rl-video-step-0-to-step-200.mp4.\n",
            "Moviepy - Writing video /Users/abdieljonathan/Documents/GitHub/CS362Fall24Assignment7/rl-video-step-0-to-step-200.mp4\n",
            "\n"
          ]
        },
        {
          "output_type": "stream",
          "name": "stderr",
          "text": []
        },
        {
          "output_type": "stream",
          "name": "stdout",
          "text": [
            "Moviepy - Done !\n",
            "Moviepy - video ready /Users/abdieljonathan/Documents/GitHub/CS362Fall24Assignment7/rl-video-step-0-to-step-200.mp4\n",
            "Saving video to /Users/abdieljonathan/Documents/GitHub/CS362Fall24Assignment7/rl-video-step-0-to-step-200.mp4\n",
            "Moviepy - Building video /Users/abdieljonathan/Documents/GitHub/CS362Fall24Assignment7/rl-video-step-0-to-step-200.mp4.\n",
            "Moviepy - Writing video /Users/abdieljonathan/Documents/GitHub/CS362Fall24Assignment7/rl-video-step-0-to-step-200.mp4\n",
            "\n"
          ]
        },
        {
          "output_type": "stream",
          "name": "stderr",
          "text": []
        },
        {
          "output_type": "stream",
          "name": "stdout",
          "text": [
            "Moviepy - Done !\n",
            "Moviepy - video ready /Users/abdieljonathan/Documents/GitHub/CS362Fall24Assignment7/rl-video-step-0-to-step-200.mp4\n",
            "-----------------------------------------\n",
            "| rollout/                |             |\n",
            "|    ep_len_mean          | 1e+03       |\n",
            "|    ep_rew_mean          | -62         |\n",
            "| time/                   |             |\n",
            "|    fps                  | 21          |\n",
            "|    iterations           | 25          |\n",
            "|    time_elapsed         | 4854        |\n",
            "|    total_timesteps      | 102400      |\n",
            "| train/                  |             |\n",
            "|    approx_kl            | 0.012214072 |\n",
            "|    clip_fraction        | 0.13        |\n",
            "|    clip_range           | 0.2         |\n",
            "|    entropy_loss         | -3.99       |\n",
            "|    explained_variance   | 0.945       |\n",
            "|    learning_rate        | 0.0001      |\n",
            "|    loss                 | -0.068      |\n",
            "|    n_updates            | 240         |\n",
            "|    policy_gradient_loss | -0.0189     |\n",
            "|    std                  | 0.917       |\n",
            "|    value_loss           | 0.143       |\n",
            "-----------------------------------------\n"
          ]
        }
      ],
      "source": [
        "import gym\n",
        "from stable_baselines3 import PPO\n",
        "from stable_baselines3.common.env_util import make_vec_env\n",
        "from stable_baselines3.common.vec_env import VecVideoRecorder\n",
        "\n",
        "# Configuration for the CarRacing-v2 environment\n",
        "config = {\n",
        "    'CarRacing-v3': {\n",
        "        'policy': 'CnnPolicy',  # Use MlpPolicy for continuous control environments\n",
        "        'n_steps': 2048,\n",
        "        'batch_size': 64,\n",
        "        'n_epochs': 10,\n",
        "        'gamma': 0.99,\n",
        "        'learning_rate': 1e-4,\n",
        "        'ent_coef': 0.01,\n",
        "        'vf_coef': 0.5,\n",
        "        'max_grad_norm': 0.5,\n",
        "        'gae_lambda': 0.95,\n",
        "        'clip_range': 0.2,\n",
        "        'clip_range_vf': None,\n",
        "        'target_kl': None,\n",
        "        'verbose': 1,\n",
        "    }\n",
        "}\n",
        "\n",
        "# Extract config for CarRacing-v2\n",
        "env_config = config['CarRacing-v3']\n",
        "\n",
        "# Create the vectorized environment using the environment ID\n",
        "env = make_vec_env(\"CarRacing-v3\", n_envs=2)  # Adjust n_envs as needed\n",
        "video_folder = \"/Users/abdieljonathan/Documents/GitHub/CS362Fall24Assignment7\"\n",
        "env = VecVideoRecorder(env, video_folder, record_video_trigger=lambda x: x % 1000 == 0, video_length=200)\n",
        "\n",
        "\n",
        "# Initialize the PPO model with parameters from the config\n",
        "model = PPO(\n",
        "    env=env,\n",
        "    policy=env_config['policy'],\n",
        "    n_steps=env_config['n_steps'],\n",
        "    batch_size=env_config['batch_size'],\n",
        "    n_epochs=env_config['n_epochs'],\n",
        "    gamma=env_config['gamma'],\n",
        "    learning_rate=env_config['learning_rate'],\n",
        "    ent_coef=env_config['ent_coef'],\n",
        "    vf_coef=env_config['vf_coef'],\n",
        "    max_grad_norm=env_config['max_grad_norm'],\n",
        "    gae_lambda=env_config['gae_lambda'],\n",
        "    clip_range=env_config['clip_range'],\n",
        "    clip_range_vf=env_config['clip_range_vf'],\n",
        "    target_kl=env_config['target_kl'],\n",
        "    verbose=env_config['verbose'],\n",
        ")\n",
        "\n",
        "# Train the model\n",
        "model.learn(total_timesteps=int(100000))\n",
        "# model.learn(total_timesteps=int(1e6))\n",
        "\n",
        "# Save the trained model\n",
        "model.save(\"carracing_ppo_model_9_hours\")\n"
      ]
    },
    {
      "cell_type": "code",
      "execution_count": 10,
      "metadata": {
        "id": "f59G3JCgKEpI",
        "colab": {
          "base_uri": "https://localhost:8080/",
          "height": 73
        },
        "outputId": "d6daa98b-e530-4341-d3f0-f2214dc4a6db"
      },
      "outputs": [
        {
          "output_type": "stream",
          "name": "stderr",
          "text": [
            "/usr/local/lib/python3.10/dist-packages/ipykernel/ipkernel.py:283: DeprecationWarning: `should_run_async` will not call `transform_cell` automatically in the future. Please pass the result to `transformed_cell` argument and any exception that happen during thetransform in `preprocessing_exc_tuple` in IPython 7.17 and above.\n",
            "  and should_run_async(code)\n"
          ]
        },
        {
          "output_type": "display_data",
          "data": {
            "text/plain": [
              "<IPython.core.display.Javascript object>"
            ],
            "application/javascript": [
              "\n",
              "    async function download(id, filename, size) {\n",
              "      if (!google.colab.kernel.accessAllowed) {\n",
              "        return;\n",
              "      }\n",
              "      const div = document.createElement('div');\n",
              "      const label = document.createElement('label');\n",
              "      label.textContent = `Downloading \"${filename}\": `;\n",
              "      div.appendChild(label);\n",
              "      const progress = document.createElement('progress');\n",
              "      progress.max = size;\n",
              "      div.appendChild(progress);\n",
              "      document.body.appendChild(div);\n",
              "\n",
              "      const buffers = [];\n",
              "      let downloaded = 0;\n",
              "\n",
              "      const channel = await google.colab.kernel.comms.open(id);\n",
              "      // Send a message to notify the kernel that we're ready.\n",
              "      channel.send({})\n",
              "\n",
              "      for await (const message of channel.messages) {\n",
              "        // Send a message to notify the kernel that we're ready.\n",
              "        channel.send({})\n",
              "        if (message.buffers) {\n",
              "          for (const buffer of message.buffers) {\n",
              "            buffers.push(buffer);\n",
              "            downloaded += buffer.byteLength;\n",
              "            progress.value = downloaded;\n",
              "          }\n",
              "        }\n",
              "      }\n",
              "      const blob = new Blob(buffers, {type: 'application/binary'});\n",
              "      const a = document.createElement('a');\n",
              "      a.href = window.URL.createObjectURL(blob);\n",
              "      a.download = filename;\n",
              "      div.appendChild(a);\n",
              "      a.click();\n",
              "      div.remove();\n",
              "    }\n",
              "  "
            ]
          },
          "metadata": {}
        },
        {
          "output_type": "display_data",
          "data": {
            "text/plain": [
              "<IPython.core.display.Javascript object>"
            ],
            "application/javascript": [
              "download(\"download_236571c6-4808-469e-9ae6-900177645190\", \"rl-video-step-0-to-step-200.mp4\", 243162)"
            ]
          },
          "metadata": {}
        }
      ],
      "source": [
        "from google.colab import files\n",
        "\n",
        "# Specify the path where your video is saved in the Colab VM\n",
        "video_path = '/Users/abdieljonathan/Documents/GitHub/CS362Fall24Assignment7/rl-video-step-0-to-step-200.mp4'\n",
        "\n",
        "# Use files.download to download the video to your local machine\n",
        "files.download(video_path)"
      ]
    },
    {
      "cell_type": "code",
      "execution_count": 11,
      "metadata": {
        "id": "lRvttyiVPOis",
        "colab": {
          "base_uri": "https://localhost:8080/"
        },
        "outputId": "ea9d5225-c17d-4638-d1a5-3c79626ecdbf"
      },
      "outputs": [
        {
          "output_type": "stream",
          "name": "stdout",
          "text": [
            "['.config', 'carracing_ppo_model_9_hours.zip', 'sample_data']\n"
          ]
        }
      ],
      "source": [
        "import os\n",
        "print(os.listdir())\n"
      ]
    },
    {
      "cell_type": "code",
      "execution_count": null,
      "metadata": {
        "id": "2KD--PRqOOXJ"
      },
      "outputs": [],
      "source": [
        "\n"
      ]
    }
  ],
  "metadata": {
    "colab": {
      "provenance": [],
      "authorship_tag": "ABX9TyN4UtGiFoqm6z6k+2TDwCE7",
      "include_colab_link": true
    },
    "kernelspec": {
      "display_name": "Python 3",
      "name": "python3"
    },
    "language_info": {
      "name": "python"
    }
  },
  "nbformat": 4,
  "nbformat_minor": 0
}